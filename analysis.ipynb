{
 "cells": [
  {
   "cell_type": "code",
   "execution_count": 51,
   "metadata": {},
   "outputs": [],
   "source": [
    "import pandas as pd\n",
    "from wordcloud import WordCloud\n",
    "import numpy as np\n",
    "from PIL import Image\n",
    "import plotly.express as px\n",
    "import plotly.graph_objects as go\n",
    "from plotly.subplots import make_subplots\n",
    "from datetime import datetime as dt"
   ]
  },
  {
   "cell_type": "markdown",
   "metadata": {},
   "source": [
    "# Shark Attack Analysis (EDA)\n",
    "\n",
    "This notebook will demonstrate the final part of the R-ETL-A process. Analysis! \n",
    "\n",
    "This is where the fun begins. The data has been extracted-transformed-loaded into a useable state and this can be done multiple times with rationalisation of new data. Now the analysis which will also be reproducible will begin."
   ]
  },
  {
   "cell_type": "code",
   "execution_count": 2,
   "metadata": {},
   "outputs": [
    {
     "data": {
      "text/html": [
       "<div>\n",
       "<style scoped>\n",
       "    .dataframe tbody tr th:only-of-type {\n",
       "        vertical-align: middle;\n",
       "    }\n",
       "\n",
       "    .dataframe tbody tr th {\n",
       "        vertical-align: top;\n",
       "    }\n",
       "\n",
       "    .dataframe thead th {\n",
       "        text-align: right;\n",
       "    }\n",
       "</style>\n",
       "<table border=\"1\" class=\"dataframe\">\n",
       "  <thead>\n",
       "    <tr style=\"text-align: right;\">\n",
       "      <th></th>\n",
       "      <th>CaseNumber</th>\n",
       "      <th>Date</th>\n",
       "      <th>Year</th>\n",
       "      <th>Type</th>\n",
       "      <th>Country</th>\n",
       "      <th>Area</th>\n",
       "      <th>Location</th>\n",
       "      <th>Activity</th>\n",
       "      <th>Name</th>\n",
       "      <th>Sex</th>\n",
       "      <th>...</th>\n",
       "      <th>Fatal (Y/N)</th>\n",
       "      <th>Time</th>\n",
       "      <th>Species</th>\n",
       "      <th>Investigator or Source</th>\n",
       "      <th>pdf</th>\n",
       "      <th>href formula</th>\n",
       "      <th>href</th>\n",
       "      <th>Case Number.1</th>\n",
       "      <th>Case Number.2</th>\n",
       "      <th>original order</th>\n",
       "    </tr>\n",
       "  </thead>\n",
       "  <tbody>\n",
       "    <tr>\n",
       "      <th>0</th>\n",
       "      <td>1998.05.29.a</td>\n",
       "      <td>1998-05-29 00:00:00</td>\n",
       "      <td>1998.0</td>\n",
       "      <td>Unprovoked</td>\n",
       "      <td>SOUTH AFRICA</td>\n",
       "      <td>Eastern Cape Province</td>\n",
       "      <td>Jeffreys Bay</td>\n",
       "      <td>Body boarding</td>\n",
       "      <td>Jan-Henrick Opperman</td>\n",
       "      <td>M</td>\n",
       "      <td>...</td>\n",
       "      <td>N</td>\n",
       "      <td>Early afternoon</td>\n",
       "      <td>Unidentified</td>\n",
       "      <td>A. Gifford, GSAF</td>\n",
       "      <td>1998.05.29.a-Opperman.pdf</td>\n",
       "      <td>http://sharkattackfile.net/spreadsheets/pdf_di...</td>\n",
       "      <td>http://sharkattackfile.net/spreadsheets/pdf_di...</td>\n",
       "      <td>1998.05.29.a</td>\n",
       "      <td>1998.05.29.a</td>\n",
       "      <td>4049.0</td>\n",
       "    </tr>\n",
       "    <tr>\n",
       "      <th>1</th>\n",
       "      <td>1895.11.16</td>\n",
       "      <td>1895-11-16 00:00:00</td>\n",
       "      <td>1895.0</td>\n",
       "      <td>Unprovoked</td>\n",
       "      <td>AUSTRALIA</td>\n",
       "      <td>New South Wales</td>\n",
       "      <td>Jervis Bay</td>\n",
       "      <td>Fishing</td>\n",
       "      <td>Edward Bailey</td>\n",
       "      <td>M</td>\n",
       "      <td>...</td>\n",
       "      <td>Y</td>\n",
       "      <td>NaN</td>\n",
       "      <td>NaN</td>\n",
       "      <td>West Australian, 11/19/1895</td>\n",
       "      <td>1895.11.16-Bailey.pdf</td>\n",
       "      <td>http://sharkattackfile.net/spreadsheets/pdf_di...</td>\n",
       "      <td>http://sharkattackfile.net/spreadsheets/pdf_di...</td>\n",
       "      <td>1895.11.16</td>\n",
       "      <td>1895.11.16</td>\n",
       "      <td>621.0</td>\n",
       "    </tr>\n",
       "    <tr>\n",
       "      <th>2</th>\n",
       "      <td>1965.08.30</td>\n",
       "      <td>1965-08-30 00:00:00</td>\n",
       "      <td>1965.0</td>\n",
       "      <td>Invalid</td>\n",
       "      <td>PHILIPPINES</td>\n",
       "      <td>Unknown</td>\n",
       "      <td>Grounded off Scarborough Shoals, 150 miles nor...</td>\n",
       "      <td>Arsinoe, a French tanker</td>\n",
       "      <td>French seaman</td>\n",
       "      <td>M</td>\n",
       "      <td>...</td>\n",
       "      <td>Y</td>\n",
       "      <td>NaN</td>\n",
       "      <td>Shark involvement not confirmed</td>\n",
       "      <td>Manila Daily Bulletin, 9/3/1965; SAF Case #1388</td>\n",
       "      <td>1965.08.30-Arsinoe.pdf</td>\n",
       "      <td>http://sharkattackfile.net/spreadsheets/pdf_di...</td>\n",
       "      <td>http://sharkattackfile.net/spreadsheets/pdf_di...</td>\n",
       "      <td>1965.08.30</td>\n",
       "      <td>1965.08.30</td>\n",
       "      <td>2624.0</td>\n",
       "    </tr>\n",
       "    <tr>\n",
       "      <th>3</th>\n",
       "      <td>1844.07.20.</td>\n",
       "      <td>1844-07-20 00:00:00</td>\n",
       "      <td>1844.0</td>\n",
       "      <td>Unprovoked</td>\n",
       "      <td>NAMIBIA</td>\n",
       "      <td>Unknown</td>\n",
       "      <td>NaN</td>\n",
       "      <td>Boat capsized</td>\n",
       "      <td>a seaman from HMS Isis</td>\n",
       "      <td>M</td>\n",
       "      <td>...</td>\n",
       "      <td>Y</td>\n",
       "      <td>NaN</td>\n",
       "      <td>NaN</td>\n",
       "      <td>Colonial Times, 5/24/1845</td>\n",
       "      <td>1844.07.20-Isis-seaman.pdf</td>\n",
       "      <td>http://sharkattackfile.net/spreadsheets/pdf_di...</td>\n",
       "      <td>http://sharkattackfile.net/spreadsheets/pdf_di...</td>\n",
       "      <td>1844.07.20.</td>\n",
       "      <td>1844.07.20.</td>\n",
       "      <td>229.0</td>\n",
       "    </tr>\n",
       "    <tr>\n",
       "      <th>4</th>\n",
       "      <td>2012.02.25</td>\n",
       "      <td>2012-02-25 00:00:00</td>\n",
       "      <td>2012.0</td>\n",
       "      <td>Unprovoked</td>\n",
       "      <td>AUSTRALIA</td>\n",
       "      <td>New South Wales</td>\n",
       "      <td>Broughton Island</td>\n",
       "      <td>Fishing</td>\n",
       "      <td>male</td>\n",
       "      <td>M</td>\n",
       "      <td>...</td>\n",
       "      <td>N</td>\n",
       "      <td>16h00</td>\n",
       "      <td>Grey nurse shark</td>\n",
       "      <td>B. Smee, Newcastle Herald, 2/27/2012</td>\n",
       "      <td>2012.02.25-BroughtonIslandFisherman.pdf</td>\n",
       "      <td>http://sharkattackfile.net/spreadsheets/pdf_di...</td>\n",
       "      <td>http://sharkattackfile.net/spreadsheets/pdf_di...</td>\n",
       "      <td>2012.02.25</td>\n",
       "      <td>2012.02.25</td>\n",
       "      <td>5418.0</td>\n",
       "    </tr>\n",
       "  </tbody>\n",
       "</table>\n",
       "<p>5 rows × 22 columns</p>\n",
       "</div>"
      ],
      "text/plain": [
       "     CaseNumber                 Date    Year        Type       Country  \\\n",
       "0  1998.05.29.a  1998-05-29 00:00:00  1998.0  Unprovoked  SOUTH AFRICA   \n",
       "1    1895.11.16  1895-11-16 00:00:00  1895.0  Unprovoked     AUSTRALIA   \n",
       "2    1965.08.30  1965-08-30 00:00:00  1965.0     Invalid   PHILIPPINES   \n",
       "3   1844.07.20.  1844-07-20 00:00:00  1844.0  Unprovoked       NAMIBIA   \n",
       "4    2012.02.25  2012-02-25 00:00:00  2012.0  Unprovoked     AUSTRALIA   \n",
       "\n",
       "                    Area                                           Location  \\\n",
       "0  Eastern Cape Province                                       Jeffreys Bay   \n",
       "1        New South Wales                                        Jervis Bay    \n",
       "2                Unknown  Grounded off Scarborough Shoals, 150 miles nor...   \n",
       "3                Unknown                                                NaN   \n",
       "4        New South Wales                                   Broughton Island   \n",
       "\n",
       "                   Activity                    Name Sex   ... Fatal (Y/N)  \\\n",
       "0             Body boarding    Jan-Henrick Opperman    M  ...           N   \n",
       "1                   Fishing           Edward Bailey    M  ...           Y   \n",
       "2  Arsinoe, a French tanker           French seaman    M  ...           Y   \n",
       "3             Boat capsized  a seaman from HMS Isis    M  ...           Y   \n",
       "4                   Fishing                    male    M  ...           N   \n",
       "\n",
       "              Time                         Species   \\\n",
       "0  Early afternoon                     Unidentified   \n",
       "1              NaN                              NaN   \n",
       "2              NaN  Shark involvement not confirmed   \n",
       "3              NaN                              NaN   \n",
       "4            16h00                 Grey nurse shark   \n",
       "\n",
       "                            Investigator or Source  \\\n",
       "0                                 A. Gifford, GSAF   \n",
       "1                      West Australian, 11/19/1895   \n",
       "2  Manila Daily Bulletin, 9/3/1965; SAF Case #1388   \n",
       "3                        Colonial Times, 5/24/1845   \n",
       "4             B. Smee, Newcastle Herald, 2/27/2012   \n",
       "\n",
       "                                       pdf  \\\n",
       "0                1998.05.29.a-Opperman.pdf   \n",
       "1                    1895.11.16-Bailey.pdf   \n",
       "2                   1965.08.30-Arsinoe.pdf   \n",
       "3               1844.07.20-Isis-seaman.pdf   \n",
       "4  2012.02.25-BroughtonIslandFisherman.pdf   \n",
       "\n",
       "                                        href formula  \\\n",
       "0  http://sharkattackfile.net/spreadsheets/pdf_di...   \n",
       "1  http://sharkattackfile.net/spreadsheets/pdf_di...   \n",
       "2  http://sharkattackfile.net/spreadsheets/pdf_di...   \n",
       "3  http://sharkattackfile.net/spreadsheets/pdf_di...   \n",
       "4  http://sharkattackfile.net/spreadsheets/pdf_di...   \n",
       "\n",
       "                                                href Case Number.1  \\\n",
       "0  http://sharkattackfile.net/spreadsheets/pdf_di...  1998.05.29.a   \n",
       "1  http://sharkattackfile.net/spreadsheets/pdf_di...    1895.11.16   \n",
       "2  http://sharkattackfile.net/spreadsheets/pdf_di...    1965.08.30   \n",
       "3  http://sharkattackfile.net/spreadsheets/pdf_di...   1844.07.20.   \n",
       "4  http://sharkattackfile.net/spreadsheets/pdf_di...    2012.02.25   \n",
       "\n",
       "  Case Number.2 original order  \n",
       "0  1998.05.29.a         4049.0  \n",
       "1    1895.11.16          621.0  \n",
       "2    1965.08.30         2624.0  \n",
       "3   1844.07.20.          229.0  \n",
       "4    2012.02.25         5418.0  \n",
       "\n",
       "[5 rows x 22 columns]"
      ]
     },
     "execution_count": 2,
     "metadata": {},
     "output_type": "execute_result"
    }
   ],
   "source": [
    "df = pd.read_csv('data/master.csv')\n",
    "df.drop('Unnamed: 0', inplace=True, axis=1)\n",
    "\n",
    "df.head(5)"
   ]
  },
  {
   "cell_type": "markdown",
   "metadata": {},
   "source": [
    "## Injury Data Word Cloud - What are the most common words used in injury reports?\n",
    "\n",
    "Are their common words used? What are those words? How can those words be represented?"
   ]
  },
  {
   "cell_type": "code",
   "execution_count": 16,
   "metadata": {},
   "outputs": [],
   "source": [
    "def build_wordcloud(stopwords:list, image_path:str, text:str, title:str)-> go.Figure:\n",
    "    '''\n",
    "    Build a wordcloud that meets the same styling requirements in a shape based on an image\n",
    "    \n",
    "    :param stopwords: List of stopwords to remove\n",
    "    :param image_path: Path to the image to use as a shape\n",
    "    :param text: Text to use in the wordcloud\n",
    "    :param title: Title of the wordcloud\n",
    "    \n",
    "    :returns: Word cloud plotly figure  \n",
    "    '''\n",
    "    \n",
    "    # read in base image \n",
    "    mask = np.array(Image.open(image_path))\n",
    "\n",
    "    # set up word cloud options \n",
    "    wc = WordCloud(stopwords=stopwords,\n",
    "                   mask=mask, background_color=\"white\",\n",
    "                   max_words=2000, max_font_size=200,\n",
    "                   random_state=42, width=mask.shape[1],\n",
    "                   height=mask.shape[0])\n",
    "\n",
    "    # generate cloud based on string of injury col\n",
    "    words = wc.generate(text)\n",
    "\n",
    "    # build image figure of cloud \n",
    "    fig = px.imshow(words, title=title)\n",
    "\n",
    "    # update the fonts used in chart labels\n",
    "    fig.update_layout(\n",
    "        title_font_family=\"Arial\",\n",
    "        title_font_color=\"black\",\n",
    "    )\n",
    "\n",
    "    # figure does not need axis\n",
    "    fig.update_layout(coloraxis_showscale=False)\n",
    "    fig.update_xaxes(showticklabels=False)\n",
    "    fig.update_yaxes(showticklabels=False)\n",
    "    \n",
    "    return fig"
   ]
  },
  {
   "cell_type": "code",
   "execution_count": 18,
   "metadata": {},
   "outputs": [
    {
     "data": {
      "application/vnd.plotly.v1+json": {
       "config": {
        "plotlyServerURL": "https://plot.ly"
       },
       "data": [
        {
         "hovertemplate": "x: %{x}<br>y: %{y}<br>color: [%{z[0]}, %{z[1]}, %{z[2]}]<extra></extra>",
         "name": "0",
         "source": "data:image/png;base64,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",
         "type": "image",
         "xaxis": "x",
         "yaxis": "y"
        }
       ],
       "layout": {
        "coloraxis": {
         "showscale": false
        },
        "template": {
         "data": {
          "bar": [
           {
            "error_x": {
             "color": "#2a3f5f"
            },
            "error_y": {
             "color": "#2a3f5f"
            },
            "marker": {
             "line": {
              "color": "#E5ECF6",
              "width": 0.5
             },
             "pattern": {
              "fillmode": "overlay",
              "size": 10,
              "solidity": 0.2
             }
            },
            "type": "bar"
           }
          ],
          "barpolar": [
           {
            "marker": {
             "line": {
              "color": "#E5ECF6",
              "width": 0.5
             },
             "pattern": {
              "fillmode": "overlay",
              "size": 10,
              "solidity": 0.2
             }
            },
            "type": "barpolar"
           }
          ],
          "carpet": [
           {
            "aaxis": {
             "endlinecolor": "#2a3f5f",
             "gridcolor": "white",
             "linecolor": "white",
             "minorgridcolor": "white",
             "startlinecolor": "#2a3f5f"
            },
            "baxis": {
             "endlinecolor": "#2a3f5f",
             "gridcolor": "white",
             "linecolor": "white",
             "minorgridcolor": "white",
             "startlinecolor": "#2a3f5f"
            },
            "type": "carpet"
           }
          ],
          "choropleth": [
           {
            "colorbar": {
             "outlinewidth": 0,
             "ticks": ""
            },
            "type": "choropleth"
           }
          ],
          "contour": [
           {
            "colorbar": {
             "outlinewidth": 0,
             "ticks": ""
            },
            "colorscale": [
             [
              0,
              "#0d0887"
             ],
             [
              0.1111111111111111,
              "#46039f"
             ],
             [
              0.2222222222222222,
              "#7201a8"
             ],
             [
              0.3333333333333333,
              "#9c179e"
             ],
             [
              0.4444444444444444,
              "#bd3786"
             ],
             [
              0.5555555555555556,
              "#d8576b"
             ],
             [
              0.6666666666666666,
              "#ed7953"
             ],
             [
              0.7777777777777778,
              "#fb9f3a"
             ],
             [
              0.8888888888888888,
              "#fdca26"
             ],
             [
              1,
              "#f0f921"
             ]
            ],
            "type": "contour"
           }
          ],
          "contourcarpet": [
           {
            "colorbar": {
             "outlinewidth": 0,
             "ticks": ""
            },
            "type": "contourcarpet"
           }
          ],
          "heatmap": [
           {
            "colorbar": {
             "outlinewidth": 0,
             "ticks": ""
            },
            "colorscale": [
             [
              0,
              "#0d0887"
             ],
             [
              0.1111111111111111,
              "#46039f"
             ],
             [
              0.2222222222222222,
              "#7201a8"
             ],
             [
              0.3333333333333333,
              "#9c179e"
             ],
             [
              0.4444444444444444,
              "#bd3786"
             ],
             [
              0.5555555555555556,
              "#d8576b"
             ],
             [
              0.6666666666666666,
              "#ed7953"
             ],
             [
              0.7777777777777778,
              "#fb9f3a"
             ],
             [
              0.8888888888888888,
              "#fdca26"
             ],
             [
              1,
              "#f0f921"
             ]
            ],
            "type": "heatmap"
           }
          ],
          "heatmapgl": [
           {
            "colorbar": {
             "outlinewidth": 0,
             "ticks": ""
            },
            "colorscale": [
             [
              0,
              "#0d0887"
             ],
             [
              0.1111111111111111,
              "#46039f"
             ],
             [
              0.2222222222222222,
              "#7201a8"
             ],
             [
              0.3333333333333333,
              "#9c179e"
             ],
             [
              0.4444444444444444,
              "#bd3786"
             ],
             [
              0.5555555555555556,
              "#d8576b"
             ],
             [
              0.6666666666666666,
              "#ed7953"
             ],
             [
              0.7777777777777778,
              "#fb9f3a"
             ],
             [
              0.8888888888888888,
              "#fdca26"
             ],
             [
              1,
              "#f0f921"
             ]
            ],
            "type": "heatmapgl"
           }
          ],
          "histogram": [
           {
            "marker": {
             "pattern": {
              "fillmode": "overlay",
              "size": 10,
              "solidity": 0.2
             }
            },
            "type": "histogram"
           }
          ],
          "histogram2d": [
           {
            "colorbar": {
             "outlinewidth": 0,
             "ticks": ""
            },
            "colorscale": [
             [
              0,
              "#0d0887"
             ],
             [
              0.1111111111111111,
              "#46039f"
             ],
             [
              0.2222222222222222,
              "#7201a8"
             ],
             [
              0.3333333333333333,
              "#9c179e"
             ],
             [
              0.4444444444444444,
              "#bd3786"
             ],
             [
              0.5555555555555556,
              "#d8576b"
             ],
             [
              0.6666666666666666,
              "#ed7953"
             ],
             [
              0.7777777777777778,
              "#fb9f3a"
             ],
             [
              0.8888888888888888,
              "#fdca26"
             ],
             [
              1,
              "#f0f921"
             ]
            ],
            "type": "histogram2d"
           }
          ],
          "histogram2dcontour": [
           {
            "colorbar": {
             "outlinewidth": 0,
             "ticks": ""
            },
            "colorscale": [
             [
              0,
              "#0d0887"
             ],
             [
              0.1111111111111111,
              "#46039f"
             ],
             [
              0.2222222222222222,
              "#7201a8"
             ],
             [
              0.3333333333333333,
              "#9c179e"
             ],
             [
              0.4444444444444444,
              "#bd3786"
             ],
             [
              0.5555555555555556,
              "#d8576b"
             ],
             [
              0.6666666666666666,
              "#ed7953"
             ],
             [
              0.7777777777777778,
              "#fb9f3a"
             ],
             [
              0.8888888888888888,
              "#fdca26"
             ],
             [
              1,
              "#f0f921"
             ]
            ],
            "type": "histogram2dcontour"
           }
          ],
          "mesh3d": [
           {
            "colorbar": {
             "outlinewidth": 0,
             "ticks": ""
            },
            "type": "mesh3d"
           }
          ],
          "parcoords": [
           {
            "line": {
             "colorbar": {
              "outlinewidth": 0,
              "ticks": ""
             }
            },
            "type": "parcoords"
           }
          ],
          "pie": [
           {
            "automargin": true,
            "type": "pie"
           }
          ],
          "scatter": [
           {
            "marker": {
             "colorbar": {
              "outlinewidth": 0,
              "ticks": ""
             }
            },
            "type": "scatter"
           }
          ],
          "scatter3d": [
           {
            "line": {
             "colorbar": {
              "outlinewidth": 0,
              "ticks": ""
             }
            },
            "marker": {
             "colorbar": {
              "outlinewidth": 0,
              "ticks": ""
             }
            },
            "type": "scatter3d"
           }
          ],
          "scattercarpet": [
           {
            "marker": {
             "colorbar": {
              "outlinewidth": 0,
              "ticks": ""
             }
            },
            "type": "scattercarpet"
           }
          ],
          "scattergeo": [
           {
            "marker": {
             "colorbar": {
              "outlinewidth": 0,
              "ticks": ""
             }
            },
            "type": "scattergeo"
           }
          ],
          "scattergl": [
           {
            "marker": {
             "colorbar": {
              "outlinewidth": 0,
              "ticks": ""
             }
            },
            "type": "scattergl"
           }
          ],
          "scattermapbox": [
           {
            "marker": {
             "colorbar": {
              "outlinewidth": 0,
              "ticks": ""
             }
            },
            "type": "scattermapbox"
           }
          ],
          "scatterpolar": [
           {
            "marker": {
             "colorbar": {
              "outlinewidth": 0,
              "ticks": ""
             }
            },
            "type": "scatterpolar"
           }
          ],
          "scatterpolargl": [
           {
            "marker": {
             "colorbar": {
              "outlinewidth": 0,
              "ticks": ""
             }
            },
            "type": "scatterpolargl"
           }
          ],
          "scatterternary": [
           {
            "marker": {
             "colorbar": {
              "outlinewidth": 0,
              "ticks": ""
             }
            },
            "type": "scatterternary"
           }
          ],
          "surface": [
           {
            "colorbar": {
             "outlinewidth": 0,
             "ticks": ""
            },
            "colorscale": [
             [
              0,
              "#0d0887"
             ],
             [
              0.1111111111111111,
              "#46039f"
             ],
             [
              0.2222222222222222,
              "#7201a8"
             ],
             [
              0.3333333333333333,
              "#9c179e"
             ],
             [
              0.4444444444444444,
              "#bd3786"
             ],
             [
              0.5555555555555556,
              "#d8576b"
             ],
             [
              0.6666666666666666,
              "#ed7953"
             ],
             [
              0.7777777777777778,
              "#fb9f3a"
             ],
             [
              0.8888888888888888,
              "#fdca26"
             ],
             [
              1,
              "#f0f921"
             ]
            ],
            "type": "surface"
           }
          ],
          "table": [
           {
            "cells": {
             "fill": {
              "color": "#EBF0F8"
             },
             "line": {
              "color": "white"
             }
            },
            "header": {
             "fill": {
              "color": "#C8D4E3"
             },
             "line": {
              "color": "white"
             }
            },
            "type": "table"
           }
          ]
         },
         "layout": {
          "annotationdefaults": {
           "arrowcolor": "#2a3f5f",
           "arrowhead": 0,
           "arrowwidth": 1
          },
          "autotypenumbers": "strict",
          "coloraxis": {
           "colorbar": {
            "outlinewidth": 0,
            "ticks": ""
           }
          },
          "colorscale": {
           "diverging": [
            [
             0,
             "#8e0152"
            ],
            [
             0.1,
             "#c51b7d"
            ],
            [
             0.2,
             "#de77ae"
            ],
            [
             0.3,
             "#f1b6da"
            ],
            [
             0.4,
             "#fde0ef"
            ],
            [
             0.5,
             "#f7f7f7"
            ],
            [
             0.6,
             "#e6f5d0"
            ],
            [
             0.7,
             "#b8e186"
            ],
            [
             0.8,
             "#7fbc41"
            ],
            [
             0.9,
             "#4d9221"
            ],
            [
             1,
             "#276419"
            ]
           ],
           "sequential": [
            [
             0,
             "#0d0887"
            ],
            [
             0.1111111111111111,
             "#46039f"
            ],
            [
             0.2222222222222222,
             "#7201a8"
            ],
            [
             0.3333333333333333,
             "#9c179e"
            ],
            [
             0.4444444444444444,
             "#bd3786"
            ],
            [
             0.5555555555555556,
             "#d8576b"
            ],
            [
             0.6666666666666666,
             "#ed7953"
            ],
            [
             0.7777777777777778,
             "#fb9f3a"
            ],
            [
             0.8888888888888888,
             "#fdca26"
            ],
            [
             1,
             "#f0f921"
            ]
           ],
           "sequentialminus": [
            [
             0,
             "#0d0887"
            ],
            [
             0.1111111111111111,
             "#46039f"
            ],
            [
             0.2222222222222222,
             "#7201a8"
            ],
            [
             0.3333333333333333,
             "#9c179e"
            ],
            [
             0.4444444444444444,
             "#bd3786"
            ],
            [
             0.5555555555555556,
             "#d8576b"
            ],
            [
             0.6666666666666666,
             "#ed7953"
            ],
            [
             0.7777777777777778,
             "#fb9f3a"
            ],
            [
             0.8888888888888888,
             "#fdca26"
            ],
            [
             1,
             "#f0f921"
            ]
           ]
          },
          "colorway": [
           "#636efa",
           "#EF553B",
           "#00cc96",
           "#ab63fa",
           "#FFA15A",
           "#19d3f3",
           "#FF6692",
           "#B6E880",
           "#FF97FF",
           "#FECB52"
          ],
          "font": {
           "color": "#2a3f5f"
          },
          "geo": {
           "bgcolor": "white",
           "lakecolor": "white",
           "landcolor": "#E5ECF6",
           "showlakes": true,
           "showland": true,
           "subunitcolor": "white"
          },
          "hoverlabel": {
           "align": "left"
          },
          "hovermode": "closest",
          "mapbox": {
           "style": "light"
          },
          "paper_bgcolor": "white",
          "plot_bgcolor": "#E5ECF6",
          "polar": {
           "angularaxis": {
            "gridcolor": "white",
            "linecolor": "white",
            "ticks": ""
           },
           "bgcolor": "#E5ECF6",
           "radialaxis": {
            "gridcolor": "white",
            "linecolor": "white",
            "ticks": ""
           }
          },
          "scene": {
           "xaxis": {
            "backgroundcolor": "#E5ECF6",
            "gridcolor": "white",
            "gridwidth": 2,
            "linecolor": "white",
            "showbackground": true,
            "ticks": "",
            "zerolinecolor": "white"
           },
           "yaxis": {
            "backgroundcolor": "#E5ECF6",
            "gridcolor": "white",
            "gridwidth": 2,
            "linecolor": "white",
            "showbackground": true,
            "ticks": "",
            "zerolinecolor": "white"
           },
           "zaxis": {
            "backgroundcolor": "#E5ECF6",
            "gridcolor": "white",
            "gridwidth": 2,
            "linecolor": "white",
            "showbackground": true,
            "ticks": "",
            "zerolinecolor": "white"
           }
          },
          "shapedefaults": {
           "line": {
            "color": "#2a3f5f"
           }
          },
          "ternary": {
           "aaxis": {
            "gridcolor": "white",
            "linecolor": "white",
            "ticks": ""
           },
           "baxis": {
            "gridcolor": "white",
            "linecolor": "white",
            "ticks": ""
           },
           "bgcolor": "#E5ECF6",
           "caxis": {
            "gridcolor": "white",
            "linecolor": "white",
            "ticks": ""
           }
          },
          "title": {
           "x": 0.05
          },
          "xaxis": {
           "automargin": true,
           "gridcolor": "white",
           "linecolor": "white",
           "ticks": "",
           "title": {
            "standoff": 15
           },
           "zerolinecolor": "white",
           "zerolinewidth": 2
          },
          "yaxis": {
           "automargin": true,
           "gridcolor": "white",
           "linecolor": "white",
           "ticks": "",
           "title": {
            "standoff": 15
           },
           "zerolinecolor": "white",
           "zerolinewidth": 2
          }
         }
        },
        "title": {
         "font": {
          "color": "black",
          "family": "Arial"
         },
         "text": "Wordcloud of most common shark attack injury statements"
        },
        "xaxis": {
         "anchor": "y",
         "domain": [
          0,
          1
         ],
         "showticklabels": false
        },
        "yaxis": {
         "anchor": "x",
         "domain": [
          0,
          1
         ],
         "showticklabels": false
        }
       }
      },
      "text/html": [
       "<div>                            <div id=\"10c5bd4d-0baa-4de5-9ced-21b320abc546\" class=\"plotly-graph-div\" style=\"height:525px; width:100%;\"></div>            <script type=\"text/javascript\">                require([\"plotly\"], function(Plotly) {                    window.PLOTLYENV=window.PLOTLYENV || {};                                    if (document.getElementById(\"10c5bd4d-0baa-4de5-9ced-21b320abc546\")) {                    Plotly.newPlot(                        \"10c5bd4d-0baa-4de5-9ced-21b320abc546\",                        [{\"hovertemplate\":\"x: %{x}<br>y: %{y}<br>color: [%{z[0]}, %{z[1]}, %{z[2]}]<extra></extra>\",\"name\":\"0\",\"source\":\"data:image/png;base64,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\",\"type\":\"image\",\"xaxis\":\"x\",\"yaxis\":\"y\"}],                        {\"coloraxis\":{\"showscale\":false},\"template\":{\"data\":{\"bar\":[{\"error_x\":{\"color\":\"#2a3f5f\"},\"error_y\":{\"color\":\"#2a3f5f\"},\"marker\":{\"line\":{\"color\":\"#E5ECF6\",\"width\":0.5},\"pattern\":{\"fillmode\":\"overlay\",\"size\":10,\"solidity\":0.2}},\"type\":\"bar\"}],\"barpolar\":[{\"marker\":{\"line\":{\"color\":\"#E5ECF6\",\"width\":0.5},\"pattern\":{\"fillmode\":\"overlay\",\"size\":10,\"solidity\":0.2}},\"type\":\"barpolar\"}],\"carpet\":[{\"aaxis\":{\"endlinecolor\":\"#2a3f5f\",\"gridcolor\":\"white\",\"linecolor\":\"white\",\"minorgridcolor\":\"white\",\"startlinecolor\":\"#2a3f5f\"},\"baxis\":{\"endlinecolor\":\"#2a3f5f\",\"gridcolor\":\"white\",\"linecolor\":\"white\",\"minorgridcolor\":\"white\",\"startlinecolor\":\"#2a3f5f\"},\"type\":\"carpet\"}],\"choropleth\":[{\"colorbar\":{\"outlinewidth\":0,\"ticks\":\"\"},\"type\":\"choropleth\"}],\"contour\":[{\"colorbar\":{\"outlinewidth\":0,\"ticks\":\"\"},\"colorscale\":[[0.0,\"#0d0887\"],[0.1111111111111111,\"#46039f\"],[0.2222222222222222,\"#7201a8\"],[0.3333333333333333,\"#9c179e\"],[0.4444444444444444,\"#bd3786\"],[0.5555555555555556,\"#d8576b\"],[0.6666666666666666,\"#ed7953\"],[0.7777777777777778,\"#fb9f3a\"],[0.8888888888888888,\"#fdca26\"],[1.0,\"#f0f921\"]],\"type\":\"contour\"}],\"contourcarpet\":[{\"colorbar\":{\"outlinewidth\":0,\"ticks\":\"\"},\"type\":\"contourcarpet\"}],\"heatmap\":[{\"colorbar\":{\"outlinewidth\":0,\"ticks\":\"\"},\"colorscale\":[[0.0,\"#0d0887\"],[0.1111111111111111,\"#46039f\"],[0.2222222222222222,\"#7201a8\"],[0.3333333333333333,\"#9c179e\"],[0.4444444444444444,\"#bd3786\"],[0.5555555555555556,\"#d8576b\"],[0.6666666666666666,\"#ed7953\"],[0.7777777777777778,\"#fb9f3a\"],[0.8888888888888888,\"#fdca26\"],[1.0,\"#f0f921\"]],\"type\":\"heatmap\"}],\"heatmapgl\":[{\"colorbar\":{\"outlinewidth\":0,\"ticks\":\"\"},\"colorscale\":[[0.0,\"#0d0887\"],[0.1111111111111111,\"#46039f\"],[0.2222222222222222,\"#7201a8\"],[0.3333333333333333,\"#9c179e\"],[0.4444444444444444,\"#bd3786\"],[0.5555555555555556,\"#d8576b\"],[0.6666666666666666,\"#ed7953\"],[0.7777777777777778,\"#fb9f3a\"],[0.8888888888888888,\"#fdca26\"],[1.0,\"#f0f921\"]],\"type\":\"heatmapgl\"}],\"histogram\":[{\"marker\":{\"pattern\":{\"fillmode\":\"overlay\",\"size\":10,\"solidity\":0.2}},\"type\":\"histogram\"}],\"histogram2d\":[{\"colorbar\":{\"outlinewidth\":0,\"ticks\":\"\"},\"colorscale\":[[0.0,\"#0d0887\"],[0.1111111111111111,\"#46039f\"],[0.2222222222222222,\"#7201a8\"],[0.3333333333333333,\"#9c179e\"],[0.4444444444444444,\"#bd3786\"],[0.5555555555555556,\"#d8576b\"],[0.6666666666666666,\"#ed7953\"],[0.7777777777777778,\"#fb9f3a\"],[0.8888888888888888,\"#fdca26\"],[1.0,\"#f0f921\"]],\"type\":\"histogram2d\"}],\"histogram2dcontour\":[{\"colorbar\":{\"outlinewidth\":0,\"ticks\":\"\"},\"colorscale\":[[0.0,\"#0d0887\"],[0.1111111111111111,\"#46039f\"],[0.2222222222222222,\"#7201a8\"],[0.3333333333333333,\"#9c179e\"],[0.4444444444444444,\"#bd3786\"],[0.5555555555555556,\"#d8576b\"],[0.6666666666666666,\"#ed7953\"],[0.7777777777777778,\"#fb9f3a\"],[0.8888888888888888,\"#fdca26\"],[1.0,\"#f0f921\"]],\"type\":\"histogram2dcontour\"}],\"mesh3d\":[{\"colorbar\":{\"outlinewidth\":0,\"ticks\":\"\"},\"type\":\"mesh3d\"}],\"parcoords\":[{\"line\":{\"colorbar\":{\"outlinewidth\":0,\"ticks\":\"\"}},\"type\":\"parcoords\"}],\"pie\":[{\"automargin\":true,\"type\":\"pie\"}],\"scatter\":[{\"marker\":{\"colorbar\":{\"outlinewidth\":0,\"ticks\":\"\"}},\"type\":\"scatter\"}],\"scatter3d\":[{\"line\":{\"colorbar\":{\"outlinewidth\":0,\"ticks\":\"\"}},\"marker\":{\"colorbar\":{\"outlinewidth\":0,\"ticks\":\"\"}},\"type\":\"scatter3d\"}],\"scattercarpet\":[{\"marker\":{\"colorbar\":{\"outlinewidth\":0,\"ticks\":\"\"}},\"type\":\"scattercarpet\"}],\"scattergeo\":[{\"marker\":{\"colorbar\":{\"outlinewidth\":0,\"ticks\":\"\"}},\"type\":\"scattergeo\"}],\"scattergl\":[{\"marker\":{\"colorbar\":{\"outlinewidth\":0,\"ticks\":\"\"}},\"type\":\"scattergl\"}],\"scattermapbox\":[{\"marker\":{\"colorbar\":{\"outlinewidth\":0,\"ticks\":\"\"}},\"type\":\"scattermapbox\"}],\"scatterpolar\":[{\"marker\":{\"colorbar\":{\"outlinewidth\":0,\"ticks\":\"\"}},\"type\":\"scatterpolar\"}],\"scatterpolargl\":[{\"marker\":{\"colorbar\":{\"outlinewidth\":0,\"ticks\":\"\"}},\"type\":\"scatterpolargl\"}],\"scatterternary\":[{\"marker\":{\"colorbar\":{\"outlinewidth\":0,\"ticks\":\"\"}},\"type\":\"scatterternary\"}],\"surface\":[{\"colorbar\":{\"outlinewidth\":0,\"ticks\":\"\"},\"colorscale\":[[0.0,\"#0d0887\"],[0.1111111111111111,\"#46039f\"],[0.2222222222222222,\"#7201a8\"],[0.3333333333333333,\"#9c179e\"],[0.4444444444444444,\"#bd3786\"],[0.5555555555555556,\"#d8576b\"],[0.6666666666666666,\"#ed7953\"],[0.7777777777777778,\"#fb9f3a\"],[0.8888888888888888,\"#fdca26\"],[1.0,\"#f0f921\"]],\"type\":\"surface\"}],\"table\":[{\"cells\":{\"fill\":{\"color\":\"#EBF0F8\"},\"line\":{\"color\":\"white\"}},\"header\":{\"fill\":{\"color\":\"#C8D4E3\"},\"line\":{\"color\":\"white\"}},\"type\":\"table\"}]},\"layout\":{\"annotationdefaults\":{\"arrowcolor\":\"#2a3f5f\",\"arrowhead\":0,\"arrowwidth\":1},\"autotypenumbers\":\"strict\",\"coloraxis\":{\"colorbar\":{\"outlinewidth\":0,\"ticks\":\"\"}},\"colorscale\":{\"diverging\":[[0,\"#8e0152\"],[0.1,\"#c51b7d\"],[0.2,\"#de77ae\"],[0.3,\"#f1b6da\"],[0.4,\"#fde0ef\"],[0.5,\"#f7f7f7\"],[0.6,\"#e6f5d0\"],[0.7,\"#b8e186\"],[0.8,\"#7fbc41\"],[0.9,\"#4d9221\"],[1,\"#276419\"]],\"sequential\":[[0.0,\"#0d0887\"],[0.1111111111111111,\"#46039f\"],[0.2222222222222222,\"#7201a8\"],[0.3333333333333333,\"#9c179e\"],[0.4444444444444444,\"#bd3786\"],[0.5555555555555556,\"#d8576b\"],[0.6666666666666666,\"#ed7953\"],[0.7777777777777778,\"#fb9f3a\"],[0.8888888888888888,\"#fdca26\"],[1.0,\"#f0f921\"]],\"sequentialminus\":[[0.0,\"#0d0887\"],[0.1111111111111111,\"#46039f\"],[0.2222222222222222,\"#7201a8\"],[0.3333333333333333,\"#9c179e\"],[0.4444444444444444,\"#bd3786\"],[0.5555555555555556,\"#d8576b\"],[0.6666666666666666,\"#ed7953\"],[0.7777777777777778,\"#fb9f3a\"],[0.8888888888888888,\"#fdca26\"],[1.0,\"#f0f921\"]]},\"colorway\":[\"#636efa\",\"#EF553B\",\"#00cc96\",\"#ab63fa\",\"#FFA15A\",\"#19d3f3\",\"#FF6692\",\"#B6E880\",\"#FF97FF\",\"#FECB52\"],\"font\":{\"color\":\"#2a3f5f\"},\"geo\":{\"bgcolor\":\"white\",\"lakecolor\":\"white\",\"landcolor\":\"#E5ECF6\",\"showlakes\":true,\"showland\":true,\"subunitcolor\":\"white\"},\"hoverlabel\":{\"align\":\"left\"},\"hovermode\":\"closest\",\"mapbox\":{\"style\":\"light\"},\"paper_bgcolor\":\"white\",\"plot_bgcolor\":\"#E5ECF6\",\"polar\":{\"angularaxis\":{\"gridcolor\":\"white\",\"linecolor\":\"white\",\"ticks\":\"\"},\"bgcolor\":\"#E5ECF6\",\"radialaxis\":{\"gridcolor\":\"white\",\"linecolor\":\"white\",\"ticks\":\"\"}},\"scene\":{\"xaxis\":{\"backgroundcolor\":\"#E5ECF6\",\"gridcolor\":\"white\",\"gridwidth\":2,\"linecolor\":\"white\",\"showbackground\":true,\"ticks\":\"\",\"zerolinecolor\":\"white\"},\"yaxis\":{\"backgroundcolor\":\"#E5ECF6\",\"gridcolor\":\"white\",\"gridwidth\":2,\"linecolor\":\"white\",\"showbackground\":true,\"ticks\":\"\",\"zerolinecolor\":\"white\"},\"zaxis\":{\"backgroundcolor\":\"#E5ECF6\",\"gridcolor\":\"white\",\"gridwidth\":2,\"linecolor\":\"white\",\"showbackground\":true,\"ticks\":\"\",\"zerolinecolor\":\"white\"}},\"shapedefaults\":{\"line\":{\"color\":\"#2a3f5f\"}},\"ternary\":{\"aaxis\":{\"gridcolor\":\"white\",\"linecolor\":\"white\",\"ticks\":\"\"},\"baxis\":{\"gridcolor\":\"white\",\"linecolor\":\"white\",\"ticks\":\"\"},\"bgcolor\":\"#E5ECF6\",\"caxis\":{\"gridcolor\":\"white\",\"linecolor\":\"white\",\"ticks\":\"\"}},\"title\":{\"x\":0.05},\"xaxis\":{\"automargin\":true,\"gridcolor\":\"white\",\"linecolor\":\"white\",\"ticks\":\"\",\"title\":{\"standoff\":15},\"zerolinecolor\":\"white\",\"zerolinewidth\":2},\"yaxis\":{\"automargin\":true,\"gridcolor\":\"white\",\"linecolor\":\"white\",\"ticks\":\"\",\"title\":{\"standoff\":15},\"zerolinecolor\":\"white\",\"zerolinewidth\":2}}},\"title\":{\"font\":{\"color\":\"black\",\"family\":\"Arial\"},\"text\":\"Wordcloud of most common shark attack injury statements\"},\"xaxis\":{\"anchor\":\"y\",\"domain\":[0.0,1.0],\"showticklabels\":false},\"yaxis\":{\"anchor\":\"x\",\"domain\":[0.0,1.0],\"showticklabels\":false}},                        {\"responsive\": true}                    ).then(function(){\n",
       "                            \n",
       "var gd = document.getElementById('10c5bd4d-0baa-4de5-9ced-21b320abc546');\n",
       "var x = new MutationObserver(function (mutations, observer) {{\n",
       "        var display = window.getComputedStyle(gd).display;\n",
       "        if (!display || display === 'none') {{\n",
       "            console.log([gd, 'removed!']);\n",
       "            Plotly.purge(gd);\n",
       "            observer.disconnect();\n",
       "        }}\n",
       "}});\n",
       "\n",
       "// Listen for the removal of the full notebook cells\n",
       "var notebookContainer = gd.closest('#notebook-container');\n",
       "if (notebookContainer) {{\n",
       "    x.observe(notebookContainer, {childList: true});\n",
       "}}\n",
       "\n",
       "// Listen for the clearing of the current output cell\n",
       "var outputEl = gd.closest('.output');\n",
       "if (outputEl) {{\n",
       "    x.observe(outputEl, {childList: true});\n",
       "}}\n",
       "\n",
       "                        })                };                });            </script>        </div>"
      ]
     },
     "metadata": {},
     "output_type": "display_data"
    }
   ],
   "source": [
    "# set up stop words \n",
    "STOPWORDS = ['shark', 'to']\n",
    "\n",
    "fig = build_wordcloud(stopwords=STOPWORDS ,\n",
    "                      image_path='img.jpeg', \n",
    "                      text=df['Injury'].to_string(), \n",
    "                      title='Wordcloud of most common shark attack injury statements')\n",
    "\n",
    "fig.write_image('wordcloud.jpeg')\n",
    "fig.show()"
   ]
  },
  {
   "cell_type": "markdown",
   "metadata": {},
   "source": [
    "## Provocation by Country\n",
    "\n",
    "How does provocation factor in? Are some areas more dangerous regardless of how provoked the sharks are? Or is the distribution of attacks by provocation status equal around the world?"
   ]
  },
  {
   "cell_type": "code",
   "execution_count": 37,
   "metadata": {},
   "outputs": [
    {
     "data": {
      "application/vnd.plotly.v1+json": {
       "config": {
        "plotlyServerURL": "https://plot.ly"
       },
       "data": [
        {
         "alignmentgroup": "True",
         "hovertemplate": "Provocation=Unprovoked<br>Country of attack=%{x}<br>Count of attacks=%{y}<extra></extra>",
         "legendgroup": "Unprovoked",
         "marker": {
          "color": "rgb(76,114,176)",
          "pattern": {
           "shape": ""
          }
         },
         "name": "Unprovoked",
         "offsetgroup": "Unprovoked",
         "orientation": "v",
         "showlegend": true,
         "textposition": "auto",
         "type": "bar",
         "x": [
          "USA",
          "AUSTRALIA",
          "SOUTH AFRICA",
          "PAPUA NEW GUINEA",
          "NEW ZEALAND",
          "BRAZIL",
          "NEW CALEDONIA",
          "BAHAMAS",
          "FIJI",
          "REUNION",
          "MEXICO",
          "INDIA"
         ],
         "xaxis": "x",
         "y": [
          501,
          281,
          115,
          35,
          27,
          23,
          21,
          18,
          18,
          18,
          18,
          14
         ],
         "yaxis": "y"
        },
        {
         "alignmentgroup": "True",
         "hovertemplate": "Provocation=Provoked<br>Country of attack=%{x}<br>Count of attacks=%{y}<extra></extra>",
         "legendgroup": "Provoked",
         "marker": {
          "color": "rgb(221,132,82)",
          "pattern": {
           "shape": ""
          }
         },
         "name": "Provoked",
         "offsetgroup": "Provoked",
         "orientation": "v",
         "showlegend": true,
         "textposition": "auto",
         "type": "bar",
         "x": [
          "USA",
          "AUSTRALIA",
          "SOUTH AFRICA",
          "NEW ZEALAND",
          "PAPUA NEW GUINEA",
          "BAHAMAS"
         ],
         "xaxis": "x",
         "y": [
          51,
          37,
          21,
          9,
          8,
          2
         ],
         "yaxis": "y"
        },
        {
         "alignmentgroup": "True",
         "hovertemplate": "Provocation=Invalid<br>Country of attack=%{x}<br>Count of attacks=%{y}<extra></extra>",
         "legendgroup": "Invalid",
         "marker": {
          "color": "rgb(85,168,104)",
          "pattern": {
           "shape": ""
          }
         },
         "name": "Invalid",
         "offsetgroup": "Invalid",
         "orientation": "v",
         "showlegend": true,
         "textposition": "auto",
         "type": "bar",
         "x": [
          "USA",
          "AUSTRALIA",
          "SOUTH AFRICA",
          "NEW ZEALAND",
          "MEXICO",
          "PAPUA NEW GUINEA",
          "BAHAMAS",
          "BRAZIL"
         ],
         "xaxis": "x",
         "y": [
          47,
          33,
          28,
          7,
          4,
          1,
          1,
          1
         ],
         "yaxis": "y"
        },
        {
         "alignmentgroup": "True",
         "hovertemplate": "Provocation=Boating<br>Country of attack=%{x}<br>Count of attacks=%{y}<extra></extra>",
         "legendgroup": "Boating",
         "marker": {
          "color": "rgb(196,78,82)",
          "pattern": {
           "shape": ""
          }
         },
         "name": "Boating",
         "offsetgroup": "Boating",
         "orientation": "v",
         "showlegend": true,
         "textposition": "auto",
         "type": "bar",
         "x": [
          "AUSTRALIA",
          "USA",
          "SOUTH AFRICA",
          "NEW ZEALAND",
          "BAHAMAS",
          "MEXICO",
          "INDIA"
         ],
         "xaxis": "x",
         "y": [
          17,
          5,
          2,
          1,
          1,
          1,
          1
         ],
         "yaxis": "y"
        },
        {
         "alignmentgroup": "True",
         "hovertemplate": "Provocation=Boat<br>Country of attack=%{x}<br>Count of attacks=%{y}<extra></extra>",
         "legendgroup": "Boat",
         "marker": {
          "color": "rgb(129,114,179)",
          "pattern": {
           "shape": ""
          }
         },
         "name": "Boat",
         "offsetgroup": "Boat",
         "orientation": "v",
         "showlegend": true,
         "textposition": "auto",
         "type": "bar",
         "x": [
          "AUSTRALIA",
          "USA",
          "SOUTH AFRICA",
          "NEW ZEALAND",
          "FIJI",
          "MEXICO"
         ],
         "xaxis": "x",
         "y": [
          16,
          9,
          6,
          4,
          1,
          1
         ],
         "yaxis": "y"
        },
        {
         "alignmentgroup": "True",
         "hovertemplate": "Provocation=Sea Disaster<br>Country of attack=%{x}<br>Count of attacks=%{y}<extra></extra>",
         "legendgroup": "Sea Disaster",
         "marker": {
          "color": "rgb(147,120,96)",
          "pattern": {
           "shape": ""
          }
         },
         "name": "Sea Disaster",
         "offsetgroup": "Sea Disaster",
         "orientation": "v",
         "showlegend": true,
         "textposition": "auto",
         "type": "bar",
         "x": [
          "USA",
          "AUSTRALIA",
          "BRAZIL",
          "MEXICO",
          "SOUTH AFRICA",
          "PAPUA NEW GUINEA",
          "FIJI",
          "BAHAMAS"
         ],
         "xaxis": "x",
         "y": [
          14,
          5,
          2,
          2,
          1,
          1,
          1,
          1
         ],
         "yaxis": "y"
        }
       ],
       "layout": {
        "barmode": "relative",
        "font": {
         "color": "black",
         "family": "Arial"
        },
        "legend": {
         "title": {
          "text": "Provocation"
         },
         "tracegroupgap": 0
        },
        "template": {
         "data": {
          "bar": [
           {
            "error_x": {
             "color": "rgb(36,36,36)"
            },
            "error_y": {
             "color": "rgb(36,36,36)"
            },
            "marker": {
             "line": {
              "color": "rgb(234,234,242)",
              "width": 0.5
             },
             "pattern": {
              "fillmode": "overlay",
              "size": 10,
              "solidity": 0.2
             }
            },
            "type": "bar"
           }
          ],
          "barpolar": [
           {
            "marker": {
             "line": {
              "color": "rgb(234,234,242)",
              "width": 0.5
             },
             "pattern": {
              "fillmode": "overlay",
              "size": 10,
              "solidity": 0.2
             }
            },
            "type": "barpolar"
           }
          ],
          "carpet": [
           {
            "aaxis": {
             "endlinecolor": "rgb(36,36,36)",
             "gridcolor": "white",
             "linecolor": "white",
             "minorgridcolor": "white",
             "startlinecolor": "rgb(36,36,36)"
            },
            "baxis": {
             "endlinecolor": "rgb(36,36,36)",
             "gridcolor": "white",
             "linecolor": "white",
             "minorgridcolor": "white",
             "startlinecolor": "rgb(36,36,36)"
            },
            "type": "carpet"
           }
          ],
          "choropleth": [
           {
            "colorbar": {
             "outlinewidth": 0,
             "tickcolor": "rgb(36,36,36)",
             "ticklen": 8,
             "ticks": "outside",
             "tickwidth": 2
            },
            "type": "choropleth"
           }
          ],
          "contour": [
           {
            "colorbar": {
             "outlinewidth": 0,
             "tickcolor": "rgb(36,36,36)",
             "ticklen": 8,
             "ticks": "outside",
             "tickwidth": 2
            },
            "colorscale": [
             [
              0,
              "rgb(2,4,25)"
             ],
             [
              0.06274509803921569,
              "rgb(24,15,41)"
             ],
             [
              0.12549019607843137,
              "rgb(47,23,57)"
             ],
             [
              0.18823529411764706,
              "rgb(71,28,72)"
             ],
             [
              0.25098039215686274,
              "rgb(97,30,82)"
             ],
             [
              0.3137254901960784,
              "rgb(123,30,89)"
             ],
             [
              0.3764705882352941,
              "rgb(150,27,91)"
             ],
             [
              0.4392156862745098,
              "rgb(177,22,88)"
             ],
             [
              0.5019607843137255,
              "rgb(203,26,79)"
             ],
             [
              0.5647058823529412,
              "rgb(223,47,67)"
             ],
             [
              0.6274509803921569,
              "rgb(236,76,61)"
             ],
             [
              0.6901960784313725,
              "rgb(242,107,73)"
             ],
             [
              0.7529411764705882,
              "rgb(244,135,95)"
             ],
             [
              0.8156862745098039,
              "rgb(245,162,122)"
             ],
             [
              0.8784313725490196,
              "rgb(246,188,153)"
             ],
             [
              0.9411764705882353,
              "rgb(247,212,187)"
             ],
             [
              1,
              "rgb(250,234,220)"
             ]
            ],
            "type": "contour"
           }
          ],
          "contourcarpet": [
           {
            "colorbar": {
             "outlinewidth": 0,
             "tickcolor": "rgb(36,36,36)",
             "ticklen": 8,
             "ticks": "outside",
             "tickwidth": 2
            },
            "type": "contourcarpet"
           }
          ],
          "heatmap": [
           {
            "colorbar": {
             "outlinewidth": 0,
             "tickcolor": "rgb(36,36,36)",
             "ticklen": 8,
             "ticks": "outside",
             "tickwidth": 2
            },
            "colorscale": [
             [
              0,
              "rgb(2,4,25)"
             ],
             [
              0.06274509803921569,
              "rgb(24,15,41)"
             ],
             [
              0.12549019607843137,
              "rgb(47,23,57)"
             ],
             [
              0.18823529411764706,
              "rgb(71,28,72)"
             ],
             [
              0.25098039215686274,
              "rgb(97,30,82)"
             ],
             [
              0.3137254901960784,
              "rgb(123,30,89)"
             ],
             [
              0.3764705882352941,
              "rgb(150,27,91)"
             ],
             [
              0.4392156862745098,
              "rgb(177,22,88)"
             ],
             [
              0.5019607843137255,
              "rgb(203,26,79)"
             ],
             [
              0.5647058823529412,
              "rgb(223,47,67)"
             ],
             [
              0.6274509803921569,
              "rgb(236,76,61)"
             ],
             [
              0.6901960784313725,
              "rgb(242,107,73)"
             ],
             [
              0.7529411764705882,
              "rgb(244,135,95)"
             ],
             [
              0.8156862745098039,
              "rgb(245,162,122)"
             ],
             [
              0.8784313725490196,
              "rgb(246,188,153)"
             ],
             [
              0.9411764705882353,
              "rgb(247,212,187)"
             ],
             [
              1,
              "rgb(250,234,220)"
             ]
            ],
            "type": "heatmap"
           }
          ],
          "heatmapgl": [
           {
            "colorbar": {
             "outlinewidth": 0,
             "tickcolor": "rgb(36,36,36)",
             "ticklen": 8,
             "ticks": "outside",
             "tickwidth": 2
            },
            "colorscale": [
             [
              0,
              "rgb(2,4,25)"
             ],
             [
              0.06274509803921569,
              "rgb(24,15,41)"
             ],
             [
              0.12549019607843137,
              "rgb(47,23,57)"
             ],
             [
              0.18823529411764706,
              "rgb(71,28,72)"
             ],
             [
              0.25098039215686274,
              "rgb(97,30,82)"
             ],
             [
              0.3137254901960784,
              "rgb(123,30,89)"
             ],
             [
              0.3764705882352941,
              "rgb(150,27,91)"
             ],
             [
              0.4392156862745098,
              "rgb(177,22,88)"
             ],
             [
              0.5019607843137255,
              "rgb(203,26,79)"
             ],
             [
              0.5647058823529412,
              "rgb(223,47,67)"
             ],
             [
              0.6274509803921569,
              "rgb(236,76,61)"
             ],
             [
              0.6901960784313725,
              "rgb(242,107,73)"
             ],
             [
              0.7529411764705882,
              "rgb(244,135,95)"
             ],
             [
              0.8156862745098039,
              "rgb(245,162,122)"
             ],
             [
              0.8784313725490196,
              "rgb(246,188,153)"
             ],
             [
              0.9411764705882353,
              "rgb(247,212,187)"
             ],
             [
              1,
              "rgb(250,234,220)"
             ]
            ],
            "type": "heatmapgl"
           }
          ],
          "histogram": [
           {
            "marker": {
             "pattern": {
              "fillmode": "overlay",
              "size": 10,
              "solidity": 0.2
             }
            },
            "type": "histogram"
           }
          ],
          "histogram2d": [
           {
            "colorbar": {
             "outlinewidth": 0,
             "tickcolor": "rgb(36,36,36)",
             "ticklen": 8,
             "ticks": "outside",
             "tickwidth": 2
            },
            "colorscale": [
             [
              0,
              "rgb(2,4,25)"
             ],
             [
              0.06274509803921569,
              "rgb(24,15,41)"
             ],
             [
              0.12549019607843137,
              "rgb(47,23,57)"
             ],
             [
              0.18823529411764706,
              "rgb(71,28,72)"
             ],
             [
              0.25098039215686274,
              "rgb(97,30,82)"
             ],
             [
              0.3137254901960784,
              "rgb(123,30,89)"
             ],
             [
              0.3764705882352941,
              "rgb(150,27,91)"
             ],
             [
              0.4392156862745098,
              "rgb(177,22,88)"
             ],
             [
              0.5019607843137255,
              "rgb(203,26,79)"
             ],
             [
              0.5647058823529412,
              "rgb(223,47,67)"
             ],
             [
              0.6274509803921569,
              "rgb(236,76,61)"
             ],
             [
              0.6901960784313725,
              "rgb(242,107,73)"
             ],
             [
              0.7529411764705882,
              "rgb(244,135,95)"
             ],
             [
              0.8156862745098039,
              "rgb(245,162,122)"
             ],
             [
              0.8784313725490196,
              "rgb(246,188,153)"
             ],
             [
              0.9411764705882353,
              "rgb(247,212,187)"
             ],
             [
              1,
              "rgb(250,234,220)"
             ]
            ],
            "type": "histogram2d"
           }
          ],
          "histogram2dcontour": [
           {
            "colorbar": {
             "outlinewidth": 0,
             "tickcolor": "rgb(36,36,36)",
             "ticklen": 8,
             "ticks": "outside",
             "tickwidth": 2
            },
            "colorscale": [
             [
              0,
              "rgb(2,4,25)"
             ],
             [
              0.06274509803921569,
              "rgb(24,15,41)"
             ],
             [
              0.12549019607843137,
              "rgb(47,23,57)"
             ],
             [
              0.18823529411764706,
              "rgb(71,28,72)"
             ],
             [
              0.25098039215686274,
              "rgb(97,30,82)"
             ],
             [
              0.3137254901960784,
              "rgb(123,30,89)"
             ],
             [
              0.3764705882352941,
              "rgb(150,27,91)"
             ],
             [
              0.4392156862745098,
              "rgb(177,22,88)"
             ],
             [
              0.5019607843137255,
              "rgb(203,26,79)"
             ],
             [
              0.5647058823529412,
              "rgb(223,47,67)"
             ],
             [
              0.6274509803921569,
              "rgb(236,76,61)"
             ],
             [
              0.6901960784313725,
              "rgb(242,107,73)"
             ],
             [
              0.7529411764705882,
              "rgb(244,135,95)"
             ],
             [
              0.8156862745098039,
              "rgb(245,162,122)"
             ],
             [
              0.8784313725490196,
              "rgb(246,188,153)"
             ],
             [
              0.9411764705882353,
              "rgb(247,212,187)"
             ],
             [
              1,
              "rgb(250,234,220)"
             ]
            ],
            "type": "histogram2dcontour"
           }
          ],
          "mesh3d": [
           {
            "colorbar": {
             "outlinewidth": 0,
             "tickcolor": "rgb(36,36,36)",
             "ticklen": 8,
             "ticks": "outside",
             "tickwidth": 2
            },
            "type": "mesh3d"
           }
          ],
          "parcoords": [
           {
            "line": {
             "colorbar": {
              "outlinewidth": 0,
              "tickcolor": "rgb(36,36,36)",
              "ticklen": 8,
              "ticks": "outside",
              "tickwidth": 2
             }
            },
            "type": "parcoords"
           }
          ],
          "pie": [
           {
            "automargin": true,
            "type": "pie"
           }
          ],
          "scatter": [
           {
            "marker": {
             "colorbar": {
              "outlinewidth": 0,
              "tickcolor": "rgb(36,36,36)",
              "ticklen": 8,
              "ticks": "outside",
              "tickwidth": 2
             }
            },
            "type": "scatter"
           }
          ],
          "scatter3d": [
           {
            "line": {
             "colorbar": {
              "outlinewidth": 0,
              "tickcolor": "rgb(36,36,36)",
              "ticklen": 8,
              "ticks": "outside",
              "tickwidth": 2
             }
            },
            "marker": {
             "colorbar": {
              "outlinewidth": 0,
              "tickcolor": "rgb(36,36,36)",
              "ticklen": 8,
              "ticks": "outside",
              "tickwidth": 2
             }
            },
            "type": "scatter3d"
           }
          ],
          "scattercarpet": [
           {
            "marker": {
             "colorbar": {
              "outlinewidth": 0,
              "tickcolor": "rgb(36,36,36)",
              "ticklen": 8,
              "ticks": "outside",
              "tickwidth": 2
             }
            },
            "type": "scattercarpet"
           }
          ],
          "scattergeo": [
           {
            "marker": {
             "colorbar": {
              "outlinewidth": 0,
              "tickcolor": "rgb(36,36,36)",
              "ticklen": 8,
              "ticks": "outside",
              "tickwidth": 2
             }
            },
            "type": "scattergeo"
           }
          ],
          "scattergl": [
           {
            "marker": {
             "colorbar": {
              "outlinewidth": 0,
              "tickcolor": "rgb(36,36,36)",
              "ticklen": 8,
              "ticks": "outside",
              "tickwidth": 2
             }
            },
            "type": "scattergl"
           }
          ],
          "scattermapbox": [
           {
            "marker": {
             "colorbar": {
              "outlinewidth": 0,
              "tickcolor": "rgb(36,36,36)",
              "ticklen": 8,
              "ticks": "outside",
              "tickwidth": 2
             }
            },
            "type": "scattermapbox"
           }
          ],
          "scatterpolar": [
           {
            "marker": {
             "colorbar": {
              "outlinewidth": 0,
              "tickcolor": "rgb(36,36,36)",
              "ticklen": 8,
              "ticks": "outside",
              "tickwidth": 2
             }
            },
            "type": "scatterpolar"
           }
          ],
          "scatterpolargl": [
           {
            "marker": {
             "colorbar": {
              "outlinewidth": 0,
              "tickcolor": "rgb(36,36,36)",
              "ticklen": 8,
              "ticks": "outside",
              "tickwidth": 2
             }
            },
            "type": "scatterpolargl"
           }
          ],
          "scatterternary": [
           {
            "marker": {
             "colorbar": {
              "outlinewidth": 0,
              "tickcolor": "rgb(36,36,36)",
              "ticklen": 8,
              "ticks": "outside",
              "tickwidth": 2
             }
            },
            "type": "scatterternary"
           }
          ],
          "surface": [
           {
            "colorbar": {
             "outlinewidth": 0,
             "tickcolor": "rgb(36,36,36)",
             "ticklen": 8,
             "ticks": "outside",
             "tickwidth": 2
            },
            "colorscale": [
             [
              0,
              "rgb(2,4,25)"
             ],
             [
              0.06274509803921569,
              "rgb(24,15,41)"
             ],
             [
              0.12549019607843137,
              "rgb(47,23,57)"
             ],
             [
              0.18823529411764706,
              "rgb(71,28,72)"
             ],
             [
              0.25098039215686274,
              "rgb(97,30,82)"
             ],
             [
              0.3137254901960784,
              "rgb(123,30,89)"
             ],
             [
              0.3764705882352941,
              "rgb(150,27,91)"
             ],
             [
              0.4392156862745098,
              "rgb(177,22,88)"
             ],
             [
              0.5019607843137255,
              "rgb(203,26,79)"
             ],
             [
              0.5647058823529412,
              "rgb(223,47,67)"
             ],
             [
              0.6274509803921569,
              "rgb(236,76,61)"
             ],
             [
              0.6901960784313725,
              "rgb(242,107,73)"
             ],
             [
              0.7529411764705882,
              "rgb(244,135,95)"
             ],
             [
              0.8156862745098039,
              "rgb(245,162,122)"
             ],
             [
              0.8784313725490196,
              "rgb(246,188,153)"
             ],
             [
              0.9411764705882353,
              "rgb(247,212,187)"
             ],
             [
              1,
              "rgb(250,234,220)"
             ]
            ],
            "type": "surface"
           }
          ],
          "table": [
           {
            "cells": {
             "fill": {
              "color": "rgb(231,231,240)"
             },
             "line": {
              "color": "white"
             }
            },
            "header": {
             "fill": {
              "color": "rgb(183,183,191)"
             },
             "line": {
              "color": "white"
             }
            },
            "type": "table"
           }
          ]
         },
         "layout": {
          "annotationdefaults": {
           "arrowcolor": "rgb(67,103,167)"
          },
          "autotypenumbers": "strict",
          "coloraxis": {
           "colorbar": {
            "outlinewidth": 0,
            "tickcolor": "rgb(36,36,36)",
            "ticklen": 8,
            "ticks": "outside",
            "tickwidth": 2
           }
          },
          "colorscale": {
           "sequential": [
            [
             0,
             "rgb(2,4,25)"
            ],
            [
             0.06274509803921569,
             "rgb(24,15,41)"
            ],
            [
             0.12549019607843137,
             "rgb(47,23,57)"
            ],
            [
             0.18823529411764706,
             "rgb(71,28,72)"
            ],
            [
             0.25098039215686274,
             "rgb(97,30,82)"
            ],
            [
             0.3137254901960784,
             "rgb(123,30,89)"
            ],
            [
             0.3764705882352941,
             "rgb(150,27,91)"
            ],
            [
             0.4392156862745098,
             "rgb(177,22,88)"
            ],
            [
             0.5019607843137255,
             "rgb(203,26,79)"
            ],
            [
             0.5647058823529412,
             "rgb(223,47,67)"
            ],
            [
             0.6274509803921569,
             "rgb(236,76,61)"
            ],
            [
             0.6901960784313725,
             "rgb(242,107,73)"
            ],
            [
             0.7529411764705882,
             "rgb(244,135,95)"
            ],
            [
             0.8156862745098039,
             "rgb(245,162,122)"
            ],
            [
             0.8784313725490196,
             "rgb(246,188,153)"
            ],
            [
             0.9411764705882353,
             "rgb(247,212,187)"
            ],
            [
             1,
             "rgb(250,234,220)"
            ]
           ],
           "sequentialminus": [
            [
             0,
             "rgb(2,4,25)"
            ],
            [
             0.06274509803921569,
             "rgb(24,15,41)"
            ],
            [
             0.12549019607843137,
             "rgb(47,23,57)"
            ],
            [
             0.18823529411764706,
             "rgb(71,28,72)"
            ],
            [
             0.25098039215686274,
             "rgb(97,30,82)"
            ],
            [
             0.3137254901960784,
             "rgb(123,30,89)"
            ],
            [
             0.3764705882352941,
             "rgb(150,27,91)"
            ],
            [
             0.4392156862745098,
             "rgb(177,22,88)"
            ],
            [
             0.5019607843137255,
             "rgb(203,26,79)"
            ],
            [
             0.5647058823529412,
             "rgb(223,47,67)"
            ],
            [
             0.6274509803921569,
             "rgb(236,76,61)"
            ],
            [
             0.6901960784313725,
             "rgb(242,107,73)"
            ],
            [
             0.7529411764705882,
             "rgb(244,135,95)"
            ],
            [
             0.8156862745098039,
             "rgb(245,162,122)"
            ],
            [
             0.8784313725490196,
             "rgb(246,188,153)"
            ],
            [
             0.9411764705882353,
             "rgb(247,212,187)"
            ],
            [
             1,
             "rgb(250,234,220)"
            ]
           ]
          },
          "colorway": [
           "rgb(76,114,176)",
           "rgb(221,132,82)",
           "rgb(85,168,104)",
           "rgb(196,78,82)",
           "rgb(129,114,179)",
           "rgb(147,120,96)",
           "rgb(218,139,195)",
           "rgb(140,140,140)",
           "rgb(204,185,116)",
           "rgb(100,181,205)"
          ],
          "font": {
           "color": "rgb(36,36,36)"
          },
          "geo": {
           "bgcolor": "white",
           "lakecolor": "white",
           "landcolor": "rgb(234,234,242)",
           "showlakes": true,
           "showland": true,
           "subunitcolor": "white"
          },
          "hoverlabel": {
           "align": "left"
          },
          "hovermode": "closest",
          "paper_bgcolor": "white",
          "plot_bgcolor": "rgb(234,234,242)",
          "polar": {
           "angularaxis": {
            "gridcolor": "white",
            "linecolor": "white",
            "showgrid": true,
            "ticks": ""
           },
           "bgcolor": "rgb(234,234,242)",
           "radialaxis": {
            "gridcolor": "white",
            "linecolor": "white",
            "showgrid": true,
            "ticks": ""
           }
          },
          "scene": {
           "xaxis": {
            "backgroundcolor": "rgb(234,234,242)",
            "gridcolor": "white",
            "gridwidth": 2,
            "linecolor": "white",
            "showbackground": true,
            "showgrid": true,
            "ticks": "",
            "zerolinecolor": "white"
           },
           "yaxis": {
            "backgroundcolor": "rgb(234,234,242)",
            "gridcolor": "white",
            "gridwidth": 2,
            "linecolor": "white",
            "showbackground": true,
            "showgrid": true,
            "ticks": "",
            "zerolinecolor": "white"
           },
           "zaxis": {
            "backgroundcolor": "rgb(234,234,242)",
            "gridcolor": "white",
            "gridwidth": 2,
            "linecolor": "white",
            "showbackground": true,
            "showgrid": true,
            "ticks": "",
            "zerolinecolor": "white"
           }
          },
          "shapedefaults": {
           "fillcolor": "rgb(67,103,167)",
           "line": {
            "width": 0
           },
           "opacity": 0.5
          },
          "ternary": {
           "aaxis": {
            "gridcolor": "white",
            "linecolor": "white",
            "showgrid": true,
            "ticks": ""
           },
           "baxis": {
            "gridcolor": "white",
            "linecolor": "white",
            "showgrid": true,
            "ticks": ""
           },
           "bgcolor": "rgb(234,234,242)",
           "caxis": {
            "gridcolor": "white",
            "linecolor": "white",
            "showgrid": true,
            "ticks": ""
           }
          },
          "xaxis": {
           "automargin": true,
           "gridcolor": "white",
           "linecolor": "white",
           "showgrid": true,
           "ticks": "",
           "title": {
            "standoff": 15
           },
           "zerolinecolor": "white"
          },
          "yaxis": {
           "automargin": true,
           "gridcolor": "white",
           "linecolor": "white",
           "showgrid": true,
           "ticks": "",
           "title": {
            "standoff": 15
           },
           "zerolinecolor": "white"
          }
         }
        },
        "title": {
         "text": "Number of shark attacks by country and provocation status"
        },
        "xaxis": {
         "anchor": "y",
         "domain": [
          0,
          1
         ],
         "title": {
          "text": "Country of attack"
         }
        },
        "yaxis": {
         "anchor": "x",
         "domain": [
          0,
          1
         ],
         "title": {
          "text": "Count of attacks"
         }
        }
       }
      },
      "text/html": [
       "<div>                            <div id=\"cdcb25e3-6172-4122-87fb-60d11148df08\" class=\"plotly-graph-div\" style=\"height:525px; width:100%;\"></div>            <script type=\"text/javascript\">                require([\"plotly\"], function(Plotly) {                    window.PLOTLYENV=window.PLOTLYENV || {};                                    if (document.getElementById(\"cdcb25e3-6172-4122-87fb-60d11148df08\")) {                    Plotly.newPlot(                        \"cdcb25e3-6172-4122-87fb-60d11148df08\",                        [{\"alignmentgroup\":\"True\",\"hovertemplate\":\"Provocation=Unprovoked<br>Country of attack=%{x}<br>Count of attacks=%{y}<extra></extra>\",\"legendgroup\":\"Unprovoked\",\"marker\":{\"color\":\"rgb(76,114,176)\",\"pattern\":{\"shape\":\"\"}},\"name\":\"Unprovoked\",\"offsetgroup\":\"Unprovoked\",\"orientation\":\"v\",\"showlegend\":true,\"textposition\":\"auto\",\"type\":\"bar\",\"x\":[\"USA\",\"AUSTRALIA\",\"SOUTH AFRICA\",\"PAPUA NEW GUINEA\",\"NEW ZEALAND\",\"BRAZIL\",\"NEW CALEDONIA\",\"BAHAMAS\",\"FIJI\",\"REUNION\",\"MEXICO\",\"INDIA\"],\"xaxis\":\"x\",\"y\":[501,281,115,35,27,23,21,18,18,18,18,14],\"yaxis\":\"y\"},{\"alignmentgroup\":\"True\",\"hovertemplate\":\"Provocation=Provoked<br>Country of attack=%{x}<br>Count of attacks=%{y}<extra></extra>\",\"legendgroup\":\"Provoked\",\"marker\":{\"color\":\"rgb(221,132,82)\",\"pattern\":{\"shape\":\"\"}},\"name\":\"Provoked\",\"offsetgroup\":\"Provoked\",\"orientation\":\"v\",\"showlegend\":true,\"textposition\":\"auto\",\"type\":\"bar\",\"x\":[\"USA\",\"AUSTRALIA\",\"SOUTH AFRICA\",\"NEW ZEALAND\",\"PAPUA NEW GUINEA\",\"BAHAMAS\"],\"xaxis\":\"x\",\"y\":[51,37,21,9,8,2],\"yaxis\":\"y\"},{\"alignmentgroup\":\"True\",\"hovertemplate\":\"Provocation=Invalid<br>Country of attack=%{x}<br>Count of attacks=%{y}<extra></extra>\",\"legendgroup\":\"Invalid\",\"marker\":{\"color\":\"rgb(85,168,104)\",\"pattern\":{\"shape\":\"\"}},\"name\":\"Invalid\",\"offsetgroup\":\"Invalid\",\"orientation\":\"v\",\"showlegend\":true,\"textposition\":\"auto\",\"type\":\"bar\",\"x\":[\"USA\",\"AUSTRALIA\",\"SOUTH AFRICA\",\"NEW ZEALAND\",\"MEXICO\",\"PAPUA NEW GUINEA\",\"BAHAMAS\",\"BRAZIL\"],\"xaxis\":\"x\",\"y\":[47,33,28,7,4,1,1,1],\"yaxis\":\"y\"},{\"alignmentgroup\":\"True\",\"hovertemplate\":\"Provocation=Boating<br>Country of attack=%{x}<br>Count of attacks=%{y}<extra></extra>\",\"legendgroup\":\"Boating\",\"marker\":{\"color\":\"rgb(196,78,82)\",\"pattern\":{\"shape\":\"\"}},\"name\":\"Boating\",\"offsetgroup\":\"Boating\",\"orientation\":\"v\",\"showlegend\":true,\"textposition\":\"auto\",\"type\":\"bar\",\"x\":[\"AUSTRALIA\",\"USA\",\"SOUTH AFRICA\",\"NEW ZEALAND\",\"BAHAMAS\",\"MEXICO\",\"INDIA\"],\"xaxis\":\"x\",\"y\":[17,5,2,1,1,1,1],\"yaxis\":\"y\"},{\"alignmentgroup\":\"True\",\"hovertemplate\":\"Provocation=Boat<br>Country of attack=%{x}<br>Count of attacks=%{y}<extra></extra>\",\"legendgroup\":\"Boat\",\"marker\":{\"color\":\"rgb(129,114,179)\",\"pattern\":{\"shape\":\"\"}},\"name\":\"Boat\",\"offsetgroup\":\"Boat\",\"orientation\":\"v\",\"showlegend\":true,\"textposition\":\"auto\",\"type\":\"bar\",\"x\":[\"AUSTRALIA\",\"USA\",\"SOUTH AFRICA\",\"NEW ZEALAND\",\"FIJI\",\"MEXICO\"],\"xaxis\":\"x\",\"y\":[16,9,6,4,1,1],\"yaxis\":\"y\"},{\"alignmentgroup\":\"True\",\"hovertemplate\":\"Provocation=Sea Disaster<br>Country of attack=%{x}<br>Count of attacks=%{y}<extra></extra>\",\"legendgroup\":\"Sea Disaster\",\"marker\":{\"color\":\"rgb(147,120,96)\",\"pattern\":{\"shape\":\"\"}},\"name\":\"Sea Disaster\",\"offsetgroup\":\"Sea Disaster\",\"orientation\":\"v\",\"showlegend\":true,\"textposition\":\"auto\",\"type\":\"bar\",\"x\":[\"USA\",\"AUSTRALIA\",\"BRAZIL\",\"MEXICO\",\"SOUTH AFRICA\",\"PAPUA NEW GUINEA\",\"FIJI\",\"BAHAMAS\"],\"xaxis\":\"x\",\"y\":[14,5,2,2,1,1,1,1],\"yaxis\":\"y\"}],                        {\"barmode\":\"relative\",\"font\":{\"color\":\"black\",\"family\":\"Arial\"},\"legend\":{\"title\":{\"text\":\"Provocation\"},\"tracegroupgap\":0},\"template\":{\"data\":{\"bar\":[{\"error_x\":{\"color\":\"rgb(36,36,36)\"},\"error_y\":{\"color\":\"rgb(36,36,36)\"},\"marker\":{\"line\":{\"color\":\"rgb(234,234,242)\",\"width\":0.5},\"pattern\":{\"fillmode\":\"overlay\",\"size\":10,\"solidity\":0.2}},\"type\":\"bar\"}],\"barpolar\":[{\"marker\":{\"line\":{\"color\":\"rgb(234,234,242)\",\"width\":0.5},\"pattern\":{\"fillmode\":\"overlay\",\"size\":10,\"solidity\":0.2}},\"type\":\"barpolar\"}],\"carpet\":[{\"aaxis\":{\"endlinecolor\":\"rgb(36,36,36)\",\"gridcolor\":\"white\",\"linecolor\":\"white\",\"minorgridcolor\":\"white\",\"startlinecolor\":\"rgb(36,36,36)\"},\"baxis\":{\"endlinecolor\":\"rgb(36,36,36)\",\"gridcolor\":\"white\",\"linecolor\":\"white\",\"minorgridcolor\":\"white\",\"startlinecolor\":\"rgb(36,36,36)\"},\"type\":\"carpet\"}],\"choropleth\":[{\"colorbar\":{\"outlinewidth\":0,\"tickcolor\":\"rgb(36,36,36)\",\"ticklen\":8,\"ticks\":\"outside\",\"tickwidth\":2},\"type\":\"choropleth\"}],\"contour\":[{\"colorbar\":{\"outlinewidth\":0,\"tickcolor\":\"rgb(36,36,36)\",\"ticklen\":8,\"ticks\":\"outside\",\"tickwidth\":2},\"colorscale\":[[0.0,\"rgb(2,4,25)\"],[0.06274509803921569,\"rgb(24,15,41)\"],[0.12549019607843137,\"rgb(47,23,57)\"],[0.18823529411764706,\"rgb(71,28,72)\"],[0.25098039215686274,\"rgb(97,30,82)\"],[0.3137254901960784,\"rgb(123,30,89)\"],[0.3764705882352941,\"rgb(150,27,91)\"],[0.4392156862745098,\"rgb(177,22,88)\"],[0.5019607843137255,\"rgb(203,26,79)\"],[0.5647058823529412,\"rgb(223,47,67)\"],[0.6274509803921569,\"rgb(236,76,61)\"],[0.6901960784313725,\"rgb(242,107,73)\"],[0.7529411764705882,\"rgb(244,135,95)\"],[0.8156862745098039,\"rgb(245,162,122)\"],[0.8784313725490196,\"rgb(246,188,153)\"],[0.9411764705882353,\"rgb(247,212,187)\"],[1.0,\"rgb(250,234,220)\"]],\"type\":\"contour\"}],\"contourcarpet\":[{\"colorbar\":{\"outlinewidth\":0,\"tickcolor\":\"rgb(36,36,36)\",\"ticklen\":8,\"ticks\":\"outside\",\"tickwidth\":2},\"type\":\"contourcarpet\"}],\"heatmap\":[{\"colorbar\":{\"outlinewidth\":0,\"tickcolor\":\"rgb(36,36,36)\",\"ticklen\":8,\"ticks\":\"outside\",\"tickwidth\":2},\"colorscale\":[[0.0,\"rgb(2,4,25)\"],[0.06274509803921569,\"rgb(24,15,41)\"],[0.12549019607843137,\"rgb(47,23,57)\"],[0.18823529411764706,\"rgb(71,28,72)\"],[0.25098039215686274,\"rgb(97,30,82)\"],[0.3137254901960784,\"rgb(123,30,89)\"],[0.3764705882352941,\"rgb(150,27,91)\"],[0.4392156862745098,\"rgb(177,22,88)\"],[0.5019607843137255,\"rgb(203,26,79)\"],[0.5647058823529412,\"rgb(223,47,67)\"],[0.6274509803921569,\"rgb(236,76,61)\"],[0.6901960784313725,\"rgb(242,107,73)\"],[0.7529411764705882,\"rgb(244,135,95)\"],[0.8156862745098039,\"rgb(245,162,122)\"],[0.8784313725490196,\"rgb(246,188,153)\"],[0.9411764705882353,\"rgb(247,212,187)\"],[1.0,\"rgb(250,234,220)\"]],\"type\":\"heatmap\"}],\"heatmapgl\":[{\"colorbar\":{\"outlinewidth\":0,\"tickcolor\":\"rgb(36,36,36)\",\"ticklen\":8,\"ticks\":\"outside\",\"tickwidth\":2},\"colorscale\":[[0.0,\"rgb(2,4,25)\"],[0.06274509803921569,\"rgb(24,15,41)\"],[0.12549019607843137,\"rgb(47,23,57)\"],[0.18823529411764706,\"rgb(71,28,72)\"],[0.25098039215686274,\"rgb(97,30,82)\"],[0.3137254901960784,\"rgb(123,30,89)\"],[0.3764705882352941,\"rgb(150,27,91)\"],[0.4392156862745098,\"rgb(177,22,88)\"],[0.5019607843137255,\"rgb(203,26,79)\"],[0.5647058823529412,\"rgb(223,47,67)\"],[0.6274509803921569,\"rgb(236,76,61)\"],[0.6901960784313725,\"rgb(242,107,73)\"],[0.7529411764705882,\"rgb(244,135,95)\"],[0.8156862745098039,\"rgb(245,162,122)\"],[0.8784313725490196,\"rgb(246,188,153)\"],[0.9411764705882353,\"rgb(247,212,187)\"],[1.0,\"rgb(250,234,220)\"]],\"type\":\"heatmapgl\"}],\"histogram\":[{\"marker\":{\"pattern\":{\"fillmode\":\"overlay\",\"size\":10,\"solidity\":0.2}},\"type\":\"histogram\"}],\"histogram2d\":[{\"colorbar\":{\"outlinewidth\":0,\"tickcolor\":\"rgb(36,36,36)\",\"ticklen\":8,\"ticks\":\"outside\",\"tickwidth\":2},\"colorscale\":[[0.0,\"rgb(2,4,25)\"],[0.06274509803921569,\"rgb(24,15,41)\"],[0.12549019607843137,\"rgb(47,23,57)\"],[0.18823529411764706,\"rgb(71,28,72)\"],[0.25098039215686274,\"rgb(97,30,82)\"],[0.3137254901960784,\"rgb(123,30,89)\"],[0.3764705882352941,\"rgb(150,27,91)\"],[0.4392156862745098,\"rgb(177,22,88)\"],[0.5019607843137255,\"rgb(203,26,79)\"],[0.5647058823529412,\"rgb(223,47,67)\"],[0.6274509803921569,\"rgb(236,76,61)\"],[0.6901960784313725,\"rgb(242,107,73)\"],[0.7529411764705882,\"rgb(244,135,95)\"],[0.8156862745098039,\"rgb(245,162,122)\"],[0.8784313725490196,\"rgb(246,188,153)\"],[0.9411764705882353,\"rgb(247,212,187)\"],[1.0,\"rgb(250,234,220)\"]],\"type\":\"histogram2d\"}],\"histogram2dcontour\":[{\"colorbar\":{\"outlinewidth\":0,\"tickcolor\":\"rgb(36,36,36)\",\"ticklen\":8,\"ticks\":\"outside\",\"tickwidth\":2},\"colorscale\":[[0.0,\"rgb(2,4,25)\"],[0.06274509803921569,\"rgb(24,15,41)\"],[0.12549019607843137,\"rgb(47,23,57)\"],[0.18823529411764706,\"rgb(71,28,72)\"],[0.25098039215686274,\"rgb(97,30,82)\"],[0.3137254901960784,\"rgb(123,30,89)\"],[0.3764705882352941,\"rgb(150,27,91)\"],[0.4392156862745098,\"rgb(177,22,88)\"],[0.5019607843137255,\"rgb(203,26,79)\"],[0.5647058823529412,\"rgb(223,47,67)\"],[0.6274509803921569,\"rgb(236,76,61)\"],[0.6901960784313725,\"rgb(242,107,73)\"],[0.7529411764705882,\"rgb(244,135,95)\"],[0.8156862745098039,\"rgb(245,162,122)\"],[0.8784313725490196,\"rgb(246,188,153)\"],[0.9411764705882353,\"rgb(247,212,187)\"],[1.0,\"rgb(250,234,220)\"]],\"type\":\"histogram2dcontour\"}],\"mesh3d\":[{\"colorbar\":{\"outlinewidth\":0,\"tickcolor\":\"rgb(36,36,36)\",\"ticklen\":8,\"ticks\":\"outside\",\"tickwidth\":2},\"type\":\"mesh3d\"}],\"parcoords\":[{\"line\":{\"colorbar\":{\"outlinewidth\":0,\"tickcolor\":\"rgb(36,36,36)\",\"ticklen\":8,\"ticks\":\"outside\",\"tickwidth\":2}},\"type\":\"parcoords\"}],\"pie\":[{\"automargin\":true,\"type\":\"pie\"}],\"scatter\":[{\"marker\":{\"colorbar\":{\"outlinewidth\":0,\"tickcolor\":\"rgb(36,36,36)\",\"ticklen\":8,\"ticks\":\"outside\",\"tickwidth\":2}},\"type\":\"scatter\"}],\"scatter3d\":[{\"line\":{\"colorbar\":{\"outlinewidth\":0,\"tickcolor\":\"rgb(36,36,36)\",\"ticklen\":8,\"ticks\":\"outside\",\"tickwidth\":2}},\"marker\":{\"colorbar\":{\"outlinewidth\":0,\"tickcolor\":\"rgb(36,36,36)\",\"ticklen\":8,\"ticks\":\"outside\",\"tickwidth\":2}},\"type\":\"scatter3d\"}],\"scattercarpet\":[{\"marker\":{\"colorbar\":{\"outlinewidth\":0,\"tickcolor\":\"rgb(36,36,36)\",\"ticklen\":8,\"ticks\":\"outside\",\"tickwidth\":2}},\"type\":\"scattercarpet\"}],\"scattergeo\":[{\"marker\":{\"colorbar\":{\"outlinewidth\":0,\"tickcolor\":\"rgb(36,36,36)\",\"ticklen\":8,\"ticks\":\"outside\",\"tickwidth\":2}},\"type\":\"scattergeo\"}],\"scattergl\":[{\"marker\":{\"colorbar\":{\"outlinewidth\":0,\"tickcolor\":\"rgb(36,36,36)\",\"ticklen\":8,\"ticks\":\"outside\",\"tickwidth\":2}},\"type\":\"scattergl\"}],\"scattermapbox\":[{\"marker\":{\"colorbar\":{\"outlinewidth\":0,\"tickcolor\":\"rgb(36,36,36)\",\"ticklen\":8,\"ticks\":\"outside\",\"tickwidth\":2}},\"type\":\"scattermapbox\"}],\"scatterpolar\":[{\"marker\":{\"colorbar\":{\"outlinewidth\":0,\"tickcolor\":\"rgb(36,36,36)\",\"ticklen\":8,\"ticks\":\"outside\",\"tickwidth\":2}},\"type\":\"scatterpolar\"}],\"scatterpolargl\":[{\"marker\":{\"colorbar\":{\"outlinewidth\":0,\"tickcolor\":\"rgb(36,36,36)\",\"ticklen\":8,\"ticks\":\"outside\",\"tickwidth\":2}},\"type\":\"scatterpolargl\"}],\"scatterternary\":[{\"marker\":{\"colorbar\":{\"outlinewidth\":0,\"tickcolor\":\"rgb(36,36,36)\",\"ticklen\":8,\"ticks\":\"outside\",\"tickwidth\":2}},\"type\":\"scatterternary\"}],\"surface\":[{\"colorbar\":{\"outlinewidth\":0,\"tickcolor\":\"rgb(36,36,36)\",\"ticklen\":8,\"ticks\":\"outside\",\"tickwidth\":2},\"colorscale\":[[0.0,\"rgb(2,4,25)\"],[0.06274509803921569,\"rgb(24,15,41)\"],[0.12549019607843137,\"rgb(47,23,57)\"],[0.18823529411764706,\"rgb(71,28,72)\"],[0.25098039215686274,\"rgb(97,30,82)\"],[0.3137254901960784,\"rgb(123,30,89)\"],[0.3764705882352941,\"rgb(150,27,91)\"],[0.4392156862745098,\"rgb(177,22,88)\"],[0.5019607843137255,\"rgb(203,26,79)\"],[0.5647058823529412,\"rgb(223,47,67)\"],[0.6274509803921569,\"rgb(236,76,61)\"],[0.6901960784313725,\"rgb(242,107,73)\"],[0.7529411764705882,\"rgb(244,135,95)\"],[0.8156862745098039,\"rgb(245,162,122)\"],[0.8784313725490196,\"rgb(246,188,153)\"],[0.9411764705882353,\"rgb(247,212,187)\"],[1.0,\"rgb(250,234,220)\"]],\"type\":\"surface\"}],\"table\":[{\"cells\":{\"fill\":{\"color\":\"rgb(231,231,240)\"},\"line\":{\"color\":\"white\"}},\"header\":{\"fill\":{\"color\":\"rgb(183,183,191)\"},\"line\":{\"color\":\"white\"}},\"type\":\"table\"}]},\"layout\":{\"annotationdefaults\":{\"arrowcolor\":\"rgb(67,103,167)\"},\"autotypenumbers\":\"strict\",\"coloraxis\":{\"colorbar\":{\"outlinewidth\":0,\"tickcolor\":\"rgb(36,36,36)\",\"ticklen\":8,\"ticks\":\"outside\",\"tickwidth\":2}},\"colorscale\":{\"sequential\":[[0.0,\"rgb(2,4,25)\"],[0.06274509803921569,\"rgb(24,15,41)\"],[0.12549019607843137,\"rgb(47,23,57)\"],[0.18823529411764706,\"rgb(71,28,72)\"],[0.25098039215686274,\"rgb(97,30,82)\"],[0.3137254901960784,\"rgb(123,30,89)\"],[0.3764705882352941,\"rgb(150,27,91)\"],[0.4392156862745098,\"rgb(177,22,88)\"],[0.5019607843137255,\"rgb(203,26,79)\"],[0.5647058823529412,\"rgb(223,47,67)\"],[0.6274509803921569,\"rgb(236,76,61)\"],[0.6901960784313725,\"rgb(242,107,73)\"],[0.7529411764705882,\"rgb(244,135,95)\"],[0.8156862745098039,\"rgb(245,162,122)\"],[0.8784313725490196,\"rgb(246,188,153)\"],[0.9411764705882353,\"rgb(247,212,187)\"],[1.0,\"rgb(250,234,220)\"]],\"sequentialminus\":[[0.0,\"rgb(2,4,25)\"],[0.06274509803921569,\"rgb(24,15,41)\"],[0.12549019607843137,\"rgb(47,23,57)\"],[0.18823529411764706,\"rgb(71,28,72)\"],[0.25098039215686274,\"rgb(97,30,82)\"],[0.3137254901960784,\"rgb(123,30,89)\"],[0.3764705882352941,\"rgb(150,27,91)\"],[0.4392156862745098,\"rgb(177,22,88)\"],[0.5019607843137255,\"rgb(203,26,79)\"],[0.5647058823529412,\"rgb(223,47,67)\"],[0.6274509803921569,\"rgb(236,76,61)\"],[0.6901960784313725,\"rgb(242,107,73)\"],[0.7529411764705882,\"rgb(244,135,95)\"],[0.8156862745098039,\"rgb(245,162,122)\"],[0.8784313725490196,\"rgb(246,188,153)\"],[0.9411764705882353,\"rgb(247,212,187)\"],[1.0,\"rgb(250,234,220)\"]]},\"colorway\":[\"rgb(76,114,176)\",\"rgb(221,132,82)\",\"rgb(85,168,104)\",\"rgb(196,78,82)\",\"rgb(129,114,179)\",\"rgb(147,120,96)\",\"rgb(218,139,195)\",\"rgb(140,140,140)\",\"rgb(204,185,116)\",\"rgb(100,181,205)\"],\"font\":{\"color\":\"rgb(36,36,36)\"},\"geo\":{\"bgcolor\":\"white\",\"lakecolor\":\"white\",\"landcolor\":\"rgb(234,234,242)\",\"showlakes\":true,\"showland\":true,\"subunitcolor\":\"white\"},\"hoverlabel\":{\"align\":\"left\"},\"hovermode\":\"closest\",\"paper_bgcolor\":\"white\",\"plot_bgcolor\":\"rgb(234,234,242)\",\"polar\":{\"angularaxis\":{\"gridcolor\":\"white\",\"linecolor\":\"white\",\"showgrid\":true,\"ticks\":\"\"},\"bgcolor\":\"rgb(234,234,242)\",\"radialaxis\":{\"gridcolor\":\"white\",\"linecolor\":\"white\",\"showgrid\":true,\"ticks\":\"\"}},\"scene\":{\"xaxis\":{\"backgroundcolor\":\"rgb(234,234,242)\",\"gridcolor\":\"white\",\"gridwidth\":2,\"linecolor\":\"white\",\"showbackground\":true,\"showgrid\":true,\"ticks\":\"\",\"zerolinecolor\":\"white\"},\"yaxis\":{\"backgroundcolor\":\"rgb(234,234,242)\",\"gridcolor\":\"white\",\"gridwidth\":2,\"linecolor\":\"white\",\"showbackground\":true,\"showgrid\":true,\"ticks\":\"\",\"zerolinecolor\":\"white\"},\"zaxis\":{\"backgroundcolor\":\"rgb(234,234,242)\",\"gridcolor\":\"white\",\"gridwidth\":2,\"linecolor\":\"white\",\"showbackground\":true,\"showgrid\":true,\"ticks\":\"\",\"zerolinecolor\":\"white\"}},\"shapedefaults\":{\"fillcolor\":\"rgb(67,103,167)\",\"line\":{\"width\":0},\"opacity\":0.5},\"ternary\":{\"aaxis\":{\"gridcolor\":\"white\",\"linecolor\":\"white\",\"showgrid\":true,\"ticks\":\"\"},\"baxis\":{\"gridcolor\":\"white\",\"linecolor\":\"white\",\"showgrid\":true,\"ticks\":\"\"},\"bgcolor\":\"rgb(234,234,242)\",\"caxis\":{\"gridcolor\":\"white\",\"linecolor\":\"white\",\"showgrid\":true,\"ticks\":\"\"}},\"xaxis\":{\"automargin\":true,\"gridcolor\":\"white\",\"linecolor\":\"white\",\"showgrid\":true,\"ticks\":\"\",\"title\":{\"standoff\":15},\"zerolinecolor\":\"white\"},\"yaxis\":{\"automargin\":true,\"gridcolor\":\"white\",\"linecolor\":\"white\",\"showgrid\":true,\"ticks\":\"\",\"title\":{\"standoff\":15},\"zerolinecolor\":\"white\"}}},\"title\":{\"text\":\"Number of shark attacks by country and provocation status\"},\"xaxis\":{\"anchor\":\"y\",\"domain\":[0.0,1.0],\"title\":{\"text\":\"Country of attack\"}},\"yaxis\":{\"anchor\":\"x\",\"domain\":[0.0,1.0],\"title\":{\"text\":\"Count of attacks\"}}},                        {\"responsive\": true}                    ).then(function(){\n",
       "                            \n",
       "var gd = document.getElementById('cdcb25e3-6172-4122-87fb-60d11148df08');\n",
       "var x = new MutationObserver(function (mutations, observer) {{\n",
       "        var display = window.getComputedStyle(gd).display;\n",
       "        if (!display || display === 'none') {{\n",
       "            console.log([gd, 'removed!']);\n",
       "            Plotly.purge(gd);\n",
       "            observer.disconnect();\n",
       "        }}\n",
       "}});\n",
       "\n",
       "// Listen for the removal of the full notebook cells\n",
       "var notebookContainer = gd.closest('#notebook-container');\n",
       "if (notebookContainer) {{\n",
       "    x.observe(notebookContainer, {childList: true});\n",
       "}}\n",
       "\n",
       "// Listen for the clearing of the current output cell\n",
       "var outputEl = gd.closest('.output');\n",
       "if (outputEl) {{\n",
       "    x.observe(outputEl, {childList: true});\n",
       "}}\n",
       "\n",
       "                        })                };                });            </script>        </div>"
      ]
     },
     "metadata": {},
     "output_type": "display_data"
    }
   ],
   "source": [
    "def produce_ranked_bar(data:pd.DataFrame, y:str, x:str, color:str, labels:dict, limit:int, title:str)->go.Figure:\n",
    "    '''\n",
    "    Produce a ranked bar chart with set stylings and able to take multiple inputs\n",
    "    \n",
    "    :param data: Data frame to produce the chart from\n",
    "    :param y: The y value to count for the chart\n",
    "    :param x: The x value to plot\n",
    "    :param color: The color value to disaggregate\n",
    "    :param labels: The labels to use in the chart\n",
    "    :param limit: The limit to show only x values in the chart\n",
    "    :param title: The title of the chart \n",
    "    \n",
    "    :returns: The ranked bar chart plotly Figure\n",
    "    '''\n",
    "    # decide whether there is only one or two groupings\n",
    "    if color: \n",
    "        groupby = [x, color]\n",
    "    else:\n",
    "        groupby = [x]\n",
    "    \n",
    "    # perform grouping \n",
    "    bar_data = data.groupby(['Country', 'Type']).count().reset_index()\n",
    "    \n",
    "    # rank the data so that only top x are shown\n",
    "    ranked = bar_data.sort_values('CaseNumber', ascending=False)\n",
    "    top_twenty = ranked[x][:limit].tolist()\n",
    "    ranked = ranked[ranked[x].isin(top_twenty)]\n",
    "    \n",
    "    # build the charts using the parameters\n",
    "    if color:\n",
    "        bar = px.bar(ranked, x=x, y=y, color=color, template='seaborn',\n",
    "                    labels=labels, title=title)\n",
    "    else:\n",
    "        bar = px.bar(ranked, x=x, y=y, color=color, template='seaborn',\n",
    "                    labels=labels, title=title)\n",
    "\n",
    "    bar.update_layout(\n",
    "        font_family=\"Arial\",\n",
    "        font_color=\"black\")\n",
    "    \n",
    "    return bar\n",
    "\n",
    "y = 'CaseNumber'\n",
    "x = 'Country'\n",
    "color = 'Type'\n",
    "labels = labels={\n",
    "    'Country': 'Country of attack',\n",
    "    'CaseNumber': 'Count of attacks',\n",
    "    'Type': 'Provocation'\n",
    "}\n",
    "limit = 20\n",
    "title='Number of shark attacks by country and provocation status'\n",
    "\n",
    "produce_ranked_bar(df, y, x, color, labels, limit, title).show()"
   ]
  },
  {
   "cell_type": "markdown",
   "metadata": {},
   "source": [
    "## Fatalities over Time\n",
    "\n",
    "How many fatalities have been recorded? How has this varied overtime? How many attacks go undated?"
   ]
  },
  {
   "cell_type": "code",
   "execution_count": 82,
   "metadata": {},
   "outputs": [
    {
     "data": {
      "application/vnd.plotly.v1+json": {
       "config": {
        "plotlyServerURL": "https://plot.ly"
       },
       "data": [
        {
         "mode": "lines",
         "name": "Fatalities - Dated",
         "type": "scatter",
         "x": [
          1921,
          1922,
          1923,
          1924,
          1926,
          1927,
          1928,
          1929,
          1930,
          1931,
          1932,
          1934,
          1935,
          1936,
          1937,
          1939,
          1940,
          1941,
          1942,
          1943,
          1944,
          1945,
          1946,
          1947,
          1948,
          1949,
          1950,
          1951,
          1952,
          1953,
          1954,
          1955,
          1956,
          1957,
          1958,
          1959,
          1960,
          1961,
          1962,
          1963,
          1964,
          1965,
          1966,
          1967,
          1970,
          1971,
          1972,
          1973,
          1974,
          1975,
          1976,
          1977,
          1978,
          1979,
          1980,
          1981,
          1982,
          1983,
          1984,
          1985,
          1986,
          1987,
          1988,
          1989,
          1990,
          1991,
          1992,
          1993,
          1994,
          1995,
          1996,
          1997,
          1998,
          1999,
          2000,
          2001,
          2002,
          2003,
          2004,
          2005,
          2006,
          2007,
          2008,
          2009,
          2010,
          2011,
          2012,
          2013,
          2014,
          2015,
          2017
         ],
         "xaxis": "x",
         "y": [
          3,
          2,
          1,
          2,
          2,
          4,
          1,
          4,
          5,
          5,
          3,
          2,
          4,
          1,
          2,
          5,
          5,
          2,
          1,
          3,
          4,
          2,
          1,
          1,
          3,
          2,
          4,
          2,
          5,
          1,
          4,
          5,
          5,
          5,
          6,
          10,
          7,
          5,
          10,
          7,
          7,
          7,
          8,
          6,
          2,
          1,
          4,
          2,
          8,
          3,
          3,
          1,
          1,
          3,
          2,
          3,
          4,
          2,
          2,
          1,
          1,
          1,
          1,
          2,
          1,
          2,
          2,
          5,
          2,
          5,
          1,
          2,
          1,
          3,
          2,
          1,
          7,
          2,
          5,
          3,
          3,
          4,
          3,
          5,
          2,
          3,
          2,
          6,
          3,
          4,
          1
         ],
         "yaxis": "y"
        },
        {
         "name": "Fatalities - Date Unknown",
         "type": "bar",
         "x": [
          "Unknown"
         ],
         "xaxis": "x2",
         "y": [
          16
         ],
         "yaxis": "y2"
        }
       ],
       "layout": {
        "font": {
         "color": "black",
         "family": "Arial"
        },
        "template": {
         "data": {
          "bar": [
           {
            "error_x": {
             "color": "rgb(36,36,36)"
            },
            "error_y": {
             "color": "rgb(36,36,36)"
            },
            "marker": {
             "line": {
              "color": "rgb(234,234,242)",
              "width": 0.5
             },
             "pattern": {
              "fillmode": "overlay",
              "size": 10,
              "solidity": 0.2
             }
            },
            "type": "bar"
           }
          ],
          "barpolar": [
           {
            "marker": {
             "line": {
              "color": "rgb(234,234,242)",
              "width": 0.5
             },
             "pattern": {
              "fillmode": "overlay",
              "size": 10,
              "solidity": 0.2
             }
            },
            "type": "barpolar"
           }
          ],
          "carpet": [
           {
            "aaxis": {
             "endlinecolor": "rgb(36,36,36)",
             "gridcolor": "white",
             "linecolor": "white",
             "minorgridcolor": "white",
             "startlinecolor": "rgb(36,36,36)"
            },
            "baxis": {
             "endlinecolor": "rgb(36,36,36)",
             "gridcolor": "white",
             "linecolor": "white",
             "minorgridcolor": "white",
             "startlinecolor": "rgb(36,36,36)"
            },
            "type": "carpet"
           }
          ],
          "choropleth": [
           {
            "colorbar": {
             "outlinewidth": 0,
             "tickcolor": "rgb(36,36,36)",
             "ticklen": 8,
             "ticks": "outside",
             "tickwidth": 2
            },
            "type": "choropleth"
           }
          ],
          "contour": [
           {
            "colorbar": {
             "outlinewidth": 0,
             "tickcolor": "rgb(36,36,36)",
             "ticklen": 8,
             "ticks": "outside",
             "tickwidth": 2
            },
            "colorscale": [
             [
              0,
              "rgb(2,4,25)"
             ],
             [
              0.06274509803921569,
              "rgb(24,15,41)"
             ],
             [
              0.12549019607843137,
              "rgb(47,23,57)"
             ],
             [
              0.18823529411764706,
              "rgb(71,28,72)"
             ],
             [
              0.25098039215686274,
              "rgb(97,30,82)"
             ],
             [
              0.3137254901960784,
              "rgb(123,30,89)"
             ],
             [
              0.3764705882352941,
              "rgb(150,27,91)"
             ],
             [
              0.4392156862745098,
              "rgb(177,22,88)"
             ],
             [
              0.5019607843137255,
              "rgb(203,26,79)"
             ],
             [
              0.5647058823529412,
              "rgb(223,47,67)"
             ],
             [
              0.6274509803921569,
              "rgb(236,76,61)"
             ],
             [
              0.6901960784313725,
              "rgb(242,107,73)"
             ],
             [
              0.7529411764705882,
              "rgb(244,135,95)"
             ],
             [
              0.8156862745098039,
              "rgb(245,162,122)"
             ],
             [
              0.8784313725490196,
              "rgb(246,188,153)"
             ],
             [
              0.9411764705882353,
              "rgb(247,212,187)"
             ],
             [
              1,
              "rgb(250,234,220)"
             ]
            ],
            "type": "contour"
           }
          ],
          "contourcarpet": [
           {
            "colorbar": {
             "outlinewidth": 0,
             "tickcolor": "rgb(36,36,36)",
             "ticklen": 8,
             "ticks": "outside",
             "tickwidth": 2
            },
            "type": "contourcarpet"
           }
          ],
          "heatmap": [
           {
            "colorbar": {
             "outlinewidth": 0,
             "tickcolor": "rgb(36,36,36)",
             "ticklen": 8,
             "ticks": "outside",
             "tickwidth": 2
            },
            "colorscale": [
             [
              0,
              "rgb(2,4,25)"
             ],
             [
              0.06274509803921569,
              "rgb(24,15,41)"
             ],
             [
              0.12549019607843137,
              "rgb(47,23,57)"
             ],
             [
              0.18823529411764706,
              "rgb(71,28,72)"
             ],
             [
              0.25098039215686274,
              "rgb(97,30,82)"
             ],
             [
              0.3137254901960784,
              "rgb(123,30,89)"
             ],
             [
              0.3764705882352941,
              "rgb(150,27,91)"
             ],
             [
              0.4392156862745098,
              "rgb(177,22,88)"
             ],
             [
              0.5019607843137255,
              "rgb(203,26,79)"
             ],
             [
              0.5647058823529412,
              "rgb(223,47,67)"
             ],
             [
              0.6274509803921569,
              "rgb(236,76,61)"
             ],
             [
              0.6901960784313725,
              "rgb(242,107,73)"
             ],
             [
              0.7529411764705882,
              "rgb(244,135,95)"
             ],
             [
              0.8156862745098039,
              "rgb(245,162,122)"
             ],
             [
              0.8784313725490196,
              "rgb(246,188,153)"
             ],
             [
              0.9411764705882353,
              "rgb(247,212,187)"
             ],
             [
              1,
              "rgb(250,234,220)"
             ]
            ],
            "type": "heatmap"
           }
          ],
          "heatmapgl": [
           {
            "colorbar": {
             "outlinewidth": 0,
             "tickcolor": "rgb(36,36,36)",
             "ticklen": 8,
             "ticks": "outside",
             "tickwidth": 2
            },
            "colorscale": [
             [
              0,
              "rgb(2,4,25)"
             ],
             [
              0.06274509803921569,
              "rgb(24,15,41)"
             ],
             [
              0.12549019607843137,
              "rgb(47,23,57)"
             ],
             [
              0.18823529411764706,
              "rgb(71,28,72)"
             ],
             [
              0.25098039215686274,
              "rgb(97,30,82)"
             ],
             [
              0.3137254901960784,
              "rgb(123,30,89)"
             ],
             [
              0.3764705882352941,
              "rgb(150,27,91)"
             ],
             [
              0.4392156862745098,
              "rgb(177,22,88)"
             ],
             [
              0.5019607843137255,
              "rgb(203,26,79)"
             ],
             [
              0.5647058823529412,
              "rgb(223,47,67)"
             ],
             [
              0.6274509803921569,
              "rgb(236,76,61)"
             ],
             [
              0.6901960784313725,
              "rgb(242,107,73)"
             ],
             [
              0.7529411764705882,
              "rgb(244,135,95)"
             ],
             [
              0.8156862745098039,
              "rgb(245,162,122)"
             ],
             [
              0.8784313725490196,
              "rgb(246,188,153)"
             ],
             [
              0.9411764705882353,
              "rgb(247,212,187)"
             ],
             [
              1,
              "rgb(250,234,220)"
             ]
            ],
            "type": "heatmapgl"
           }
          ],
          "histogram": [
           {
            "marker": {
             "pattern": {
              "fillmode": "overlay",
              "size": 10,
              "solidity": 0.2
             }
            },
            "type": "histogram"
           }
          ],
          "histogram2d": [
           {
            "colorbar": {
             "outlinewidth": 0,
             "tickcolor": "rgb(36,36,36)",
             "ticklen": 8,
             "ticks": "outside",
             "tickwidth": 2
            },
            "colorscale": [
             [
              0,
              "rgb(2,4,25)"
             ],
             [
              0.06274509803921569,
              "rgb(24,15,41)"
             ],
             [
              0.12549019607843137,
              "rgb(47,23,57)"
             ],
             [
              0.18823529411764706,
              "rgb(71,28,72)"
             ],
             [
              0.25098039215686274,
              "rgb(97,30,82)"
             ],
             [
              0.3137254901960784,
              "rgb(123,30,89)"
             ],
             [
              0.3764705882352941,
              "rgb(150,27,91)"
             ],
             [
              0.4392156862745098,
              "rgb(177,22,88)"
             ],
             [
              0.5019607843137255,
              "rgb(203,26,79)"
             ],
             [
              0.5647058823529412,
              "rgb(223,47,67)"
             ],
             [
              0.6274509803921569,
              "rgb(236,76,61)"
             ],
             [
              0.6901960784313725,
              "rgb(242,107,73)"
             ],
             [
              0.7529411764705882,
              "rgb(244,135,95)"
             ],
             [
              0.8156862745098039,
              "rgb(245,162,122)"
             ],
             [
              0.8784313725490196,
              "rgb(246,188,153)"
             ],
             [
              0.9411764705882353,
              "rgb(247,212,187)"
             ],
             [
              1,
              "rgb(250,234,220)"
             ]
            ],
            "type": "histogram2d"
           }
          ],
          "histogram2dcontour": [
           {
            "colorbar": {
             "outlinewidth": 0,
             "tickcolor": "rgb(36,36,36)",
             "ticklen": 8,
             "ticks": "outside",
             "tickwidth": 2
            },
            "colorscale": [
             [
              0,
              "rgb(2,4,25)"
             ],
             [
              0.06274509803921569,
              "rgb(24,15,41)"
             ],
             [
              0.12549019607843137,
              "rgb(47,23,57)"
             ],
             [
              0.18823529411764706,
              "rgb(71,28,72)"
             ],
             [
              0.25098039215686274,
              "rgb(97,30,82)"
             ],
             [
              0.3137254901960784,
              "rgb(123,30,89)"
             ],
             [
              0.3764705882352941,
              "rgb(150,27,91)"
             ],
             [
              0.4392156862745098,
              "rgb(177,22,88)"
             ],
             [
              0.5019607843137255,
              "rgb(203,26,79)"
             ],
             [
              0.5647058823529412,
              "rgb(223,47,67)"
             ],
             [
              0.6274509803921569,
              "rgb(236,76,61)"
             ],
             [
              0.6901960784313725,
              "rgb(242,107,73)"
             ],
             [
              0.7529411764705882,
              "rgb(244,135,95)"
             ],
             [
              0.8156862745098039,
              "rgb(245,162,122)"
             ],
             [
              0.8784313725490196,
              "rgb(246,188,153)"
             ],
             [
              0.9411764705882353,
              "rgb(247,212,187)"
             ],
             [
              1,
              "rgb(250,234,220)"
             ]
            ],
            "type": "histogram2dcontour"
           }
          ],
          "mesh3d": [
           {
            "colorbar": {
             "outlinewidth": 0,
             "tickcolor": "rgb(36,36,36)",
             "ticklen": 8,
             "ticks": "outside",
             "tickwidth": 2
            },
            "type": "mesh3d"
           }
          ],
          "parcoords": [
           {
            "line": {
             "colorbar": {
              "outlinewidth": 0,
              "tickcolor": "rgb(36,36,36)",
              "ticklen": 8,
              "ticks": "outside",
              "tickwidth": 2
             }
            },
            "type": "parcoords"
           }
          ],
          "pie": [
           {
            "automargin": true,
            "type": "pie"
           }
          ],
          "scatter": [
           {
            "marker": {
             "colorbar": {
              "outlinewidth": 0,
              "tickcolor": "rgb(36,36,36)",
              "ticklen": 8,
              "ticks": "outside",
              "tickwidth": 2
             }
            },
            "type": "scatter"
           }
          ],
          "scatter3d": [
           {
            "line": {
             "colorbar": {
              "outlinewidth": 0,
              "tickcolor": "rgb(36,36,36)",
              "ticklen": 8,
              "ticks": "outside",
              "tickwidth": 2
             }
            },
            "marker": {
             "colorbar": {
              "outlinewidth": 0,
              "tickcolor": "rgb(36,36,36)",
              "ticklen": 8,
              "ticks": "outside",
              "tickwidth": 2
             }
            },
            "type": "scatter3d"
           }
          ],
          "scattercarpet": [
           {
            "marker": {
             "colorbar": {
              "outlinewidth": 0,
              "tickcolor": "rgb(36,36,36)",
              "ticklen": 8,
              "ticks": "outside",
              "tickwidth": 2
             }
            },
            "type": "scattercarpet"
           }
          ],
          "scattergeo": [
           {
            "marker": {
             "colorbar": {
              "outlinewidth": 0,
              "tickcolor": "rgb(36,36,36)",
              "ticklen": 8,
              "ticks": "outside",
              "tickwidth": 2
             }
            },
            "type": "scattergeo"
           }
          ],
          "scattergl": [
           {
            "marker": {
             "colorbar": {
              "outlinewidth": 0,
              "tickcolor": "rgb(36,36,36)",
              "ticklen": 8,
              "ticks": "outside",
              "tickwidth": 2
             }
            },
            "type": "scattergl"
           }
          ],
          "scattermapbox": [
           {
            "marker": {
             "colorbar": {
              "outlinewidth": 0,
              "tickcolor": "rgb(36,36,36)",
              "ticklen": 8,
              "ticks": "outside",
              "tickwidth": 2
             }
            },
            "type": "scattermapbox"
           }
          ],
          "scatterpolar": [
           {
            "marker": {
             "colorbar": {
              "outlinewidth": 0,
              "tickcolor": "rgb(36,36,36)",
              "ticklen": 8,
              "ticks": "outside",
              "tickwidth": 2
             }
            },
            "type": "scatterpolar"
           }
          ],
          "scatterpolargl": [
           {
            "marker": {
             "colorbar": {
              "outlinewidth": 0,
              "tickcolor": "rgb(36,36,36)",
              "ticklen": 8,
              "ticks": "outside",
              "tickwidth": 2
             }
            },
            "type": "scatterpolargl"
           }
          ],
          "scatterternary": [
           {
            "marker": {
             "colorbar": {
              "outlinewidth": 0,
              "tickcolor": "rgb(36,36,36)",
              "ticklen": 8,
              "ticks": "outside",
              "tickwidth": 2
             }
            },
            "type": "scatterternary"
           }
          ],
          "surface": [
           {
            "colorbar": {
             "outlinewidth": 0,
             "tickcolor": "rgb(36,36,36)",
             "ticklen": 8,
             "ticks": "outside",
             "tickwidth": 2
            },
            "colorscale": [
             [
              0,
              "rgb(2,4,25)"
             ],
             [
              0.06274509803921569,
              "rgb(24,15,41)"
             ],
             [
              0.12549019607843137,
              "rgb(47,23,57)"
             ],
             [
              0.18823529411764706,
              "rgb(71,28,72)"
             ],
             [
              0.25098039215686274,
              "rgb(97,30,82)"
             ],
             [
              0.3137254901960784,
              "rgb(123,30,89)"
             ],
             [
              0.3764705882352941,
              "rgb(150,27,91)"
             ],
             [
              0.4392156862745098,
              "rgb(177,22,88)"
             ],
             [
              0.5019607843137255,
              "rgb(203,26,79)"
             ],
             [
              0.5647058823529412,
              "rgb(223,47,67)"
             ],
             [
              0.6274509803921569,
              "rgb(236,76,61)"
             ],
             [
              0.6901960784313725,
              "rgb(242,107,73)"
             ],
             [
              0.7529411764705882,
              "rgb(244,135,95)"
             ],
             [
              0.8156862745098039,
              "rgb(245,162,122)"
             ],
             [
              0.8784313725490196,
              "rgb(246,188,153)"
             ],
             [
              0.9411764705882353,
              "rgb(247,212,187)"
             ],
             [
              1,
              "rgb(250,234,220)"
             ]
            ],
            "type": "surface"
           }
          ],
          "table": [
           {
            "cells": {
             "fill": {
              "color": "rgb(231,231,240)"
             },
             "line": {
              "color": "white"
             }
            },
            "header": {
             "fill": {
              "color": "rgb(183,183,191)"
             },
             "line": {
              "color": "white"
             }
            },
            "type": "table"
           }
          ]
         },
         "layout": {
          "annotationdefaults": {
           "arrowcolor": "rgb(67,103,167)"
          },
          "autotypenumbers": "strict",
          "coloraxis": {
           "colorbar": {
            "outlinewidth": 0,
            "tickcolor": "rgb(36,36,36)",
            "ticklen": 8,
            "ticks": "outside",
            "tickwidth": 2
           }
          },
          "colorscale": {
           "sequential": [
            [
             0,
             "rgb(2,4,25)"
            ],
            [
             0.06274509803921569,
             "rgb(24,15,41)"
            ],
            [
             0.12549019607843137,
             "rgb(47,23,57)"
            ],
            [
             0.18823529411764706,
             "rgb(71,28,72)"
            ],
            [
             0.25098039215686274,
             "rgb(97,30,82)"
            ],
            [
             0.3137254901960784,
             "rgb(123,30,89)"
            ],
            [
             0.3764705882352941,
             "rgb(150,27,91)"
            ],
            [
             0.4392156862745098,
             "rgb(177,22,88)"
            ],
            [
             0.5019607843137255,
             "rgb(203,26,79)"
            ],
            [
             0.5647058823529412,
             "rgb(223,47,67)"
            ],
            [
             0.6274509803921569,
             "rgb(236,76,61)"
            ],
            [
             0.6901960784313725,
             "rgb(242,107,73)"
            ],
            [
             0.7529411764705882,
             "rgb(244,135,95)"
            ],
            [
             0.8156862745098039,
             "rgb(245,162,122)"
            ],
            [
             0.8784313725490196,
             "rgb(246,188,153)"
            ],
            [
             0.9411764705882353,
             "rgb(247,212,187)"
            ],
            [
             1,
             "rgb(250,234,220)"
            ]
           ],
           "sequentialminus": [
            [
             0,
             "rgb(2,4,25)"
            ],
            [
             0.06274509803921569,
             "rgb(24,15,41)"
            ],
            [
             0.12549019607843137,
             "rgb(47,23,57)"
            ],
            [
             0.18823529411764706,
             "rgb(71,28,72)"
            ],
            [
             0.25098039215686274,
             "rgb(97,30,82)"
            ],
            [
             0.3137254901960784,
             "rgb(123,30,89)"
            ],
            [
             0.3764705882352941,
             "rgb(150,27,91)"
            ],
            [
             0.4392156862745098,
             "rgb(177,22,88)"
            ],
            [
             0.5019607843137255,
             "rgb(203,26,79)"
            ],
            [
             0.5647058823529412,
             "rgb(223,47,67)"
            ],
            [
             0.6274509803921569,
             "rgb(236,76,61)"
            ],
            [
             0.6901960784313725,
             "rgb(242,107,73)"
            ],
            [
             0.7529411764705882,
             "rgb(244,135,95)"
            ],
            [
             0.8156862745098039,
             "rgb(245,162,122)"
            ],
            [
             0.8784313725490196,
             "rgb(246,188,153)"
            ],
            [
             0.9411764705882353,
             "rgb(247,212,187)"
            ],
            [
             1,
             "rgb(250,234,220)"
            ]
           ]
          },
          "colorway": [
           "rgb(76,114,176)",
           "rgb(221,132,82)",
           "rgb(85,168,104)",
           "rgb(196,78,82)",
           "rgb(129,114,179)",
           "rgb(147,120,96)",
           "rgb(218,139,195)",
           "rgb(140,140,140)",
           "rgb(204,185,116)",
           "rgb(100,181,205)"
          ],
          "font": {
           "color": "rgb(36,36,36)"
          },
          "geo": {
           "bgcolor": "white",
           "lakecolor": "white",
           "landcolor": "rgb(234,234,242)",
           "showlakes": true,
           "showland": true,
           "subunitcolor": "white"
          },
          "hoverlabel": {
           "align": "left"
          },
          "hovermode": "closest",
          "paper_bgcolor": "white",
          "plot_bgcolor": "rgb(234,234,242)",
          "polar": {
           "angularaxis": {
            "gridcolor": "white",
            "linecolor": "white",
            "showgrid": true,
            "ticks": ""
           },
           "bgcolor": "rgb(234,234,242)",
           "radialaxis": {
            "gridcolor": "white",
            "linecolor": "white",
            "showgrid": true,
            "ticks": ""
           }
          },
          "scene": {
           "xaxis": {
            "backgroundcolor": "rgb(234,234,242)",
            "gridcolor": "white",
            "gridwidth": 2,
            "linecolor": "white",
            "showbackground": true,
            "showgrid": true,
            "ticks": "",
            "zerolinecolor": "white"
           },
           "yaxis": {
            "backgroundcolor": "rgb(234,234,242)",
            "gridcolor": "white",
            "gridwidth": 2,
            "linecolor": "white",
            "showbackground": true,
            "showgrid": true,
            "ticks": "",
            "zerolinecolor": "white"
           },
           "zaxis": {
            "backgroundcolor": "rgb(234,234,242)",
            "gridcolor": "white",
            "gridwidth": 2,
            "linecolor": "white",
            "showbackground": true,
            "showgrid": true,
            "ticks": "",
            "zerolinecolor": "white"
           }
          },
          "shapedefaults": {
           "fillcolor": "rgb(67,103,167)",
           "line": {
            "width": 0
           },
           "opacity": 0.5
          },
          "ternary": {
           "aaxis": {
            "gridcolor": "white",
            "linecolor": "white",
            "showgrid": true,
            "ticks": ""
           },
           "baxis": {
            "gridcolor": "white",
            "linecolor": "white",
            "showgrid": true,
            "ticks": ""
           },
           "bgcolor": "rgb(234,234,242)",
           "caxis": {
            "gridcolor": "white",
            "linecolor": "white",
            "showgrid": true,
            "ticks": ""
           }
          },
          "xaxis": {
           "automargin": true,
           "gridcolor": "white",
           "linecolor": "white",
           "showgrid": true,
           "ticks": "",
           "title": {
            "standoff": 15
           },
           "zerolinecolor": "white"
          },
          "yaxis": {
           "automargin": true,
           "gridcolor": "white",
           "linecolor": "white",
           "showgrid": true,
           "ticks": "",
           "title": {
            "standoff": 15
           },
           "zerolinecolor": "white"
          }
         }
        },
        "title": {
         "text": "Number of fatalities by date"
        },
        "xaxis": {
         "anchor": "y",
         "domain": [
          0,
          0.7200000000000001
         ],
         "range": [
          1918,
          2022
         ]
        },
        "xaxis2": {
         "anchor": "y2",
         "domain": [
          0.8200000000000001,
          1
         ]
        },
        "yaxis": {
         "anchor": "x",
         "domain": [
          0,
          1
         ]
        },
        "yaxis2": {
         "anchor": "x2",
         "domain": [
          0,
          1
         ],
         "matches": "y",
         "showticklabels": false
        }
       }
      },
      "text/html": [
       "<div>                            <div id=\"fc8072f9-661a-43fa-bddc-57a4b682cb97\" class=\"plotly-graph-div\" style=\"height:525px; width:100%;\"></div>            <script type=\"text/javascript\">                require([\"plotly\"], function(Plotly) {                    window.PLOTLYENV=window.PLOTLYENV || {};                                    if (document.getElementById(\"fc8072f9-661a-43fa-bddc-57a4b682cb97\")) {                    Plotly.newPlot(                        \"fc8072f9-661a-43fa-bddc-57a4b682cb97\",                        [{\"mode\":\"lines\",\"name\":\"Fatalities - Dated\",\"type\":\"scatter\",\"x\":[1921.0,1922.0,1923.0,1924.0,1926.0,1927.0,1928.0,1929.0,1930.0,1931.0,1932.0,1934.0,1935.0,1936.0,1937.0,1939.0,1940.0,1941.0,1942.0,1943.0,1944.0,1945.0,1946.0,1947.0,1948.0,1949.0,1950.0,1951.0,1952.0,1953.0,1954.0,1955.0,1956.0,1957.0,1958.0,1959.0,1960.0,1961.0,1962.0,1963.0,1964.0,1965.0,1966.0,1967.0,1970.0,1971.0,1972.0,1973.0,1974.0,1975.0,1976.0,1977.0,1978.0,1979.0,1980.0,1981.0,1982.0,1983.0,1984.0,1985.0,1986.0,1987.0,1988.0,1989.0,1990.0,1991.0,1992.0,1993.0,1994.0,1995.0,1996.0,1997.0,1998.0,1999.0,2000.0,2001.0,2002.0,2003.0,2004.0,2005.0,2006.0,2007.0,2008.0,2009.0,2010.0,2011.0,2012.0,2013.0,2014.0,2015.0,2017.0],\"xaxis\":\"x\",\"y\":[3,2,1,2,2,4,1,4,5,5,3,2,4,1,2,5,5,2,1,3,4,2,1,1,3,2,4,2,5,1,4,5,5,5,6,10,7,5,10,7,7,7,8,6,2,1,4,2,8,3,3,1,1,3,2,3,4,2,2,1,1,1,1,2,1,2,2,5,2,5,1,2,1,3,2,1,7,2,5,3,3,4,3,5,2,3,2,6,3,4,1],\"yaxis\":\"y\"},{\"name\":\"Fatalities - Date Unknown\",\"type\":\"bar\",\"x\":[\"Unknown\"],\"xaxis\":\"x2\",\"y\":[16],\"yaxis\":\"y2\"}],                        {\"font\":{\"color\":\"black\",\"family\":\"Arial\"},\"template\":{\"data\":{\"bar\":[{\"error_x\":{\"color\":\"rgb(36,36,36)\"},\"error_y\":{\"color\":\"rgb(36,36,36)\"},\"marker\":{\"line\":{\"color\":\"rgb(234,234,242)\",\"width\":0.5},\"pattern\":{\"fillmode\":\"overlay\",\"size\":10,\"solidity\":0.2}},\"type\":\"bar\"}],\"barpolar\":[{\"marker\":{\"line\":{\"color\":\"rgb(234,234,242)\",\"width\":0.5},\"pattern\":{\"fillmode\":\"overlay\",\"size\":10,\"solidity\":0.2}},\"type\":\"barpolar\"}],\"carpet\":[{\"aaxis\":{\"endlinecolor\":\"rgb(36,36,36)\",\"gridcolor\":\"white\",\"linecolor\":\"white\",\"minorgridcolor\":\"white\",\"startlinecolor\":\"rgb(36,36,36)\"},\"baxis\":{\"endlinecolor\":\"rgb(36,36,36)\",\"gridcolor\":\"white\",\"linecolor\":\"white\",\"minorgridcolor\":\"white\",\"startlinecolor\":\"rgb(36,36,36)\"},\"type\":\"carpet\"}],\"choropleth\":[{\"colorbar\":{\"outlinewidth\":0,\"tickcolor\":\"rgb(36,36,36)\",\"ticklen\":8,\"ticks\":\"outside\",\"tickwidth\":2},\"type\":\"choropleth\"}],\"contour\":[{\"colorbar\":{\"outlinewidth\":0,\"tickcolor\":\"rgb(36,36,36)\",\"ticklen\":8,\"ticks\":\"outside\",\"tickwidth\":2},\"colorscale\":[[0.0,\"rgb(2,4,25)\"],[0.06274509803921569,\"rgb(24,15,41)\"],[0.12549019607843137,\"rgb(47,23,57)\"],[0.18823529411764706,\"rgb(71,28,72)\"],[0.25098039215686274,\"rgb(97,30,82)\"],[0.3137254901960784,\"rgb(123,30,89)\"],[0.3764705882352941,\"rgb(150,27,91)\"],[0.4392156862745098,\"rgb(177,22,88)\"],[0.5019607843137255,\"rgb(203,26,79)\"],[0.5647058823529412,\"rgb(223,47,67)\"],[0.6274509803921569,\"rgb(236,76,61)\"],[0.6901960784313725,\"rgb(242,107,73)\"],[0.7529411764705882,\"rgb(244,135,95)\"],[0.8156862745098039,\"rgb(245,162,122)\"],[0.8784313725490196,\"rgb(246,188,153)\"],[0.9411764705882353,\"rgb(247,212,187)\"],[1.0,\"rgb(250,234,220)\"]],\"type\":\"contour\"}],\"contourcarpet\":[{\"colorbar\":{\"outlinewidth\":0,\"tickcolor\":\"rgb(36,36,36)\",\"ticklen\":8,\"ticks\":\"outside\",\"tickwidth\":2},\"type\":\"contourcarpet\"}],\"heatmap\":[{\"colorbar\":{\"outlinewidth\":0,\"tickcolor\":\"rgb(36,36,36)\",\"ticklen\":8,\"ticks\":\"outside\",\"tickwidth\":2},\"colorscale\":[[0.0,\"rgb(2,4,25)\"],[0.06274509803921569,\"rgb(24,15,41)\"],[0.12549019607843137,\"rgb(47,23,57)\"],[0.18823529411764706,\"rgb(71,28,72)\"],[0.25098039215686274,\"rgb(97,30,82)\"],[0.3137254901960784,\"rgb(123,30,89)\"],[0.3764705882352941,\"rgb(150,27,91)\"],[0.4392156862745098,\"rgb(177,22,88)\"],[0.5019607843137255,\"rgb(203,26,79)\"],[0.5647058823529412,\"rgb(223,47,67)\"],[0.6274509803921569,\"rgb(236,76,61)\"],[0.6901960784313725,\"rgb(242,107,73)\"],[0.7529411764705882,\"rgb(244,135,95)\"],[0.8156862745098039,\"rgb(245,162,122)\"],[0.8784313725490196,\"rgb(246,188,153)\"],[0.9411764705882353,\"rgb(247,212,187)\"],[1.0,\"rgb(250,234,220)\"]],\"type\":\"heatmap\"}],\"heatmapgl\":[{\"colorbar\":{\"outlinewidth\":0,\"tickcolor\":\"rgb(36,36,36)\",\"ticklen\":8,\"ticks\":\"outside\",\"tickwidth\":2},\"colorscale\":[[0.0,\"rgb(2,4,25)\"],[0.06274509803921569,\"rgb(24,15,41)\"],[0.12549019607843137,\"rgb(47,23,57)\"],[0.18823529411764706,\"rgb(71,28,72)\"],[0.25098039215686274,\"rgb(97,30,82)\"],[0.3137254901960784,\"rgb(123,30,89)\"],[0.3764705882352941,\"rgb(150,27,91)\"],[0.4392156862745098,\"rgb(177,22,88)\"],[0.5019607843137255,\"rgb(203,26,79)\"],[0.5647058823529412,\"rgb(223,47,67)\"],[0.6274509803921569,\"rgb(236,76,61)\"],[0.6901960784313725,\"rgb(242,107,73)\"],[0.7529411764705882,\"rgb(244,135,95)\"],[0.8156862745098039,\"rgb(245,162,122)\"],[0.8784313725490196,\"rgb(246,188,153)\"],[0.9411764705882353,\"rgb(247,212,187)\"],[1.0,\"rgb(250,234,220)\"]],\"type\":\"heatmapgl\"}],\"histogram\":[{\"marker\":{\"pattern\":{\"fillmode\":\"overlay\",\"size\":10,\"solidity\":0.2}},\"type\":\"histogram\"}],\"histogram2d\":[{\"colorbar\":{\"outlinewidth\":0,\"tickcolor\":\"rgb(36,36,36)\",\"ticklen\":8,\"ticks\":\"outside\",\"tickwidth\":2},\"colorscale\":[[0.0,\"rgb(2,4,25)\"],[0.06274509803921569,\"rgb(24,15,41)\"],[0.12549019607843137,\"rgb(47,23,57)\"],[0.18823529411764706,\"rgb(71,28,72)\"],[0.25098039215686274,\"rgb(97,30,82)\"],[0.3137254901960784,\"rgb(123,30,89)\"],[0.3764705882352941,\"rgb(150,27,91)\"],[0.4392156862745098,\"rgb(177,22,88)\"],[0.5019607843137255,\"rgb(203,26,79)\"],[0.5647058823529412,\"rgb(223,47,67)\"],[0.6274509803921569,\"rgb(236,76,61)\"],[0.6901960784313725,\"rgb(242,107,73)\"],[0.7529411764705882,\"rgb(244,135,95)\"],[0.8156862745098039,\"rgb(245,162,122)\"],[0.8784313725490196,\"rgb(246,188,153)\"],[0.9411764705882353,\"rgb(247,212,187)\"],[1.0,\"rgb(250,234,220)\"]],\"type\":\"histogram2d\"}],\"histogram2dcontour\":[{\"colorbar\":{\"outlinewidth\":0,\"tickcolor\":\"rgb(36,36,36)\",\"ticklen\":8,\"ticks\":\"outside\",\"tickwidth\":2},\"colorscale\":[[0.0,\"rgb(2,4,25)\"],[0.06274509803921569,\"rgb(24,15,41)\"],[0.12549019607843137,\"rgb(47,23,57)\"],[0.18823529411764706,\"rgb(71,28,72)\"],[0.25098039215686274,\"rgb(97,30,82)\"],[0.3137254901960784,\"rgb(123,30,89)\"],[0.3764705882352941,\"rgb(150,27,91)\"],[0.4392156862745098,\"rgb(177,22,88)\"],[0.5019607843137255,\"rgb(203,26,79)\"],[0.5647058823529412,\"rgb(223,47,67)\"],[0.6274509803921569,\"rgb(236,76,61)\"],[0.6901960784313725,\"rgb(242,107,73)\"],[0.7529411764705882,\"rgb(244,135,95)\"],[0.8156862745098039,\"rgb(245,162,122)\"],[0.8784313725490196,\"rgb(246,188,153)\"],[0.9411764705882353,\"rgb(247,212,187)\"],[1.0,\"rgb(250,234,220)\"]],\"type\":\"histogram2dcontour\"}],\"mesh3d\":[{\"colorbar\":{\"outlinewidth\":0,\"tickcolor\":\"rgb(36,36,36)\",\"ticklen\":8,\"ticks\":\"outside\",\"tickwidth\":2},\"type\":\"mesh3d\"}],\"parcoords\":[{\"line\":{\"colorbar\":{\"outlinewidth\":0,\"tickcolor\":\"rgb(36,36,36)\",\"ticklen\":8,\"ticks\":\"outside\",\"tickwidth\":2}},\"type\":\"parcoords\"}],\"pie\":[{\"automargin\":true,\"type\":\"pie\"}],\"scatter\":[{\"marker\":{\"colorbar\":{\"outlinewidth\":0,\"tickcolor\":\"rgb(36,36,36)\",\"ticklen\":8,\"ticks\":\"outside\",\"tickwidth\":2}},\"type\":\"scatter\"}],\"scatter3d\":[{\"line\":{\"colorbar\":{\"outlinewidth\":0,\"tickcolor\":\"rgb(36,36,36)\",\"ticklen\":8,\"ticks\":\"outside\",\"tickwidth\":2}},\"marker\":{\"colorbar\":{\"outlinewidth\":0,\"tickcolor\":\"rgb(36,36,36)\",\"ticklen\":8,\"ticks\":\"outside\",\"tickwidth\":2}},\"type\":\"scatter3d\"}],\"scattercarpet\":[{\"marker\":{\"colorbar\":{\"outlinewidth\":0,\"tickcolor\":\"rgb(36,36,36)\",\"ticklen\":8,\"ticks\":\"outside\",\"tickwidth\":2}},\"type\":\"scattercarpet\"}],\"scattergeo\":[{\"marker\":{\"colorbar\":{\"outlinewidth\":0,\"tickcolor\":\"rgb(36,36,36)\",\"ticklen\":8,\"ticks\":\"outside\",\"tickwidth\":2}},\"type\":\"scattergeo\"}],\"scattergl\":[{\"marker\":{\"colorbar\":{\"outlinewidth\":0,\"tickcolor\":\"rgb(36,36,36)\",\"ticklen\":8,\"ticks\":\"outside\",\"tickwidth\":2}},\"type\":\"scattergl\"}],\"scattermapbox\":[{\"marker\":{\"colorbar\":{\"outlinewidth\":0,\"tickcolor\":\"rgb(36,36,36)\",\"ticklen\":8,\"ticks\":\"outside\",\"tickwidth\":2}},\"type\":\"scattermapbox\"}],\"scatterpolar\":[{\"marker\":{\"colorbar\":{\"outlinewidth\":0,\"tickcolor\":\"rgb(36,36,36)\",\"ticklen\":8,\"ticks\":\"outside\",\"tickwidth\":2}},\"type\":\"scatterpolar\"}],\"scatterpolargl\":[{\"marker\":{\"colorbar\":{\"outlinewidth\":0,\"tickcolor\":\"rgb(36,36,36)\",\"ticklen\":8,\"ticks\":\"outside\",\"tickwidth\":2}},\"type\":\"scatterpolargl\"}],\"scatterternary\":[{\"marker\":{\"colorbar\":{\"outlinewidth\":0,\"tickcolor\":\"rgb(36,36,36)\",\"ticklen\":8,\"ticks\":\"outside\",\"tickwidth\":2}},\"type\":\"scatterternary\"}],\"surface\":[{\"colorbar\":{\"outlinewidth\":0,\"tickcolor\":\"rgb(36,36,36)\",\"ticklen\":8,\"ticks\":\"outside\",\"tickwidth\":2},\"colorscale\":[[0.0,\"rgb(2,4,25)\"],[0.06274509803921569,\"rgb(24,15,41)\"],[0.12549019607843137,\"rgb(47,23,57)\"],[0.18823529411764706,\"rgb(71,28,72)\"],[0.25098039215686274,\"rgb(97,30,82)\"],[0.3137254901960784,\"rgb(123,30,89)\"],[0.3764705882352941,\"rgb(150,27,91)\"],[0.4392156862745098,\"rgb(177,22,88)\"],[0.5019607843137255,\"rgb(203,26,79)\"],[0.5647058823529412,\"rgb(223,47,67)\"],[0.6274509803921569,\"rgb(236,76,61)\"],[0.6901960784313725,\"rgb(242,107,73)\"],[0.7529411764705882,\"rgb(244,135,95)\"],[0.8156862745098039,\"rgb(245,162,122)\"],[0.8784313725490196,\"rgb(246,188,153)\"],[0.9411764705882353,\"rgb(247,212,187)\"],[1.0,\"rgb(250,234,220)\"]],\"type\":\"surface\"}],\"table\":[{\"cells\":{\"fill\":{\"color\":\"rgb(231,231,240)\"},\"line\":{\"color\":\"white\"}},\"header\":{\"fill\":{\"color\":\"rgb(183,183,191)\"},\"line\":{\"color\":\"white\"}},\"type\":\"table\"}]},\"layout\":{\"annotationdefaults\":{\"arrowcolor\":\"rgb(67,103,167)\"},\"autotypenumbers\":\"strict\",\"coloraxis\":{\"colorbar\":{\"outlinewidth\":0,\"tickcolor\":\"rgb(36,36,36)\",\"ticklen\":8,\"ticks\":\"outside\",\"tickwidth\":2}},\"colorscale\":{\"sequential\":[[0.0,\"rgb(2,4,25)\"],[0.06274509803921569,\"rgb(24,15,41)\"],[0.12549019607843137,\"rgb(47,23,57)\"],[0.18823529411764706,\"rgb(71,28,72)\"],[0.25098039215686274,\"rgb(97,30,82)\"],[0.3137254901960784,\"rgb(123,30,89)\"],[0.3764705882352941,\"rgb(150,27,91)\"],[0.4392156862745098,\"rgb(177,22,88)\"],[0.5019607843137255,\"rgb(203,26,79)\"],[0.5647058823529412,\"rgb(223,47,67)\"],[0.6274509803921569,\"rgb(236,76,61)\"],[0.6901960784313725,\"rgb(242,107,73)\"],[0.7529411764705882,\"rgb(244,135,95)\"],[0.8156862745098039,\"rgb(245,162,122)\"],[0.8784313725490196,\"rgb(246,188,153)\"],[0.9411764705882353,\"rgb(247,212,187)\"],[1.0,\"rgb(250,234,220)\"]],\"sequentialminus\":[[0.0,\"rgb(2,4,25)\"],[0.06274509803921569,\"rgb(24,15,41)\"],[0.12549019607843137,\"rgb(47,23,57)\"],[0.18823529411764706,\"rgb(71,28,72)\"],[0.25098039215686274,\"rgb(97,30,82)\"],[0.3137254901960784,\"rgb(123,30,89)\"],[0.3764705882352941,\"rgb(150,27,91)\"],[0.4392156862745098,\"rgb(177,22,88)\"],[0.5019607843137255,\"rgb(203,26,79)\"],[0.5647058823529412,\"rgb(223,47,67)\"],[0.6274509803921569,\"rgb(236,76,61)\"],[0.6901960784313725,\"rgb(242,107,73)\"],[0.7529411764705882,\"rgb(244,135,95)\"],[0.8156862745098039,\"rgb(245,162,122)\"],[0.8784313725490196,\"rgb(246,188,153)\"],[0.9411764705882353,\"rgb(247,212,187)\"],[1.0,\"rgb(250,234,220)\"]]},\"colorway\":[\"rgb(76,114,176)\",\"rgb(221,132,82)\",\"rgb(85,168,104)\",\"rgb(196,78,82)\",\"rgb(129,114,179)\",\"rgb(147,120,96)\",\"rgb(218,139,195)\",\"rgb(140,140,140)\",\"rgb(204,185,116)\",\"rgb(100,181,205)\"],\"font\":{\"color\":\"rgb(36,36,36)\"},\"geo\":{\"bgcolor\":\"white\",\"lakecolor\":\"white\",\"landcolor\":\"rgb(234,234,242)\",\"showlakes\":true,\"showland\":true,\"subunitcolor\":\"white\"},\"hoverlabel\":{\"align\":\"left\"},\"hovermode\":\"closest\",\"paper_bgcolor\":\"white\",\"plot_bgcolor\":\"rgb(234,234,242)\",\"polar\":{\"angularaxis\":{\"gridcolor\":\"white\",\"linecolor\":\"white\",\"showgrid\":true,\"ticks\":\"\"},\"bgcolor\":\"rgb(234,234,242)\",\"radialaxis\":{\"gridcolor\":\"white\",\"linecolor\":\"white\",\"showgrid\":true,\"ticks\":\"\"}},\"scene\":{\"xaxis\":{\"backgroundcolor\":\"rgb(234,234,242)\",\"gridcolor\":\"white\",\"gridwidth\":2,\"linecolor\":\"white\",\"showbackground\":true,\"showgrid\":true,\"ticks\":\"\",\"zerolinecolor\":\"white\"},\"yaxis\":{\"backgroundcolor\":\"rgb(234,234,242)\",\"gridcolor\":\"white\",\"gridwidth\":2,\"linecolor\":\"white\",\"showbackground\":true,\"showgrid\":true,\"ticks\":\"\",\"zerolinecolor\":\"white\"},\"zaxis\":{\"backgroundcolor\":\"rgb(234,234,242)\",\"gridcolor\":\"white\",\"gridwidth\":2,\"linecolor\":\"white\",\"showbackground\":true,\"showgrid\":true,\"ticks\":\"\",\"zerolinecolor\":\"white\"}},\"shapedefaults\":{\"fillcolor\":\"rgb(67,103,167)\",\"line\":{\"width\":0},\"opacity\":0.5},\"ternary\":{\"aaxis\":{\"gridcolor\":\"white\",\"linecolor\":\"white\",\"showgrid\":true,\"ticks\":\"\"},\"baxis\":{\"gridcolor\":\"white\",\"linecolor\":\"white\",\"showgrid\":true,\"ticks\":\"\"},\"bgcolor\":\"rgb(234,234,242)\",\"caxis\":{\"gridcolor\":\"white\",\"linecolor\":\"white\",\"showgrid\":true,\"ticks\":\"\"}},\"xaxis\":{\"automargin\":true,\"gridcolor\":\"white\",\"linecolor\":\"white\",\"showgrid\":true,\"ticks\":\"\",\"title\":{\"standoff\":15},\"zerolinecolor\":\"white\"},\"yaxis\":{\"automargin\":true,\"gridcolor\":\"white\",\"linecolor\":\"white\",\"showgrid\":true,\"ticks\":\"\",\"title\":{\"standoff\":15},\"zerolinecolor\":\"white\"}}},\"title\":{\"text\":\"Number of fatalities by date\"},\"xaxis\":{\"anchor\":\"y\",\"domain\":[0.0,0.7200000000000001],\"range\":[1918,2022]},\"xaxis2\":{\"anchor\":\"y2\",\"domain\":[0.8200000000000001,1.0]},\"yaxis\":{\"anchor\":\"x\",\"domain\":[0.0,1.0]},\"yaxis2\":{\"anchor\":\"x2\",\"domain\":[0.0,1.0],\"matches\":\"y\",\"showticklabels\":false}},                        {\"responsive\": true}                    ).then(function(){\n",
       "                            \n",
       "var gd = document.getElementById('fc8072f9-661a-43fa-bddc-57a4b682cb97');\n",
       "var x = new MutationObserver(function (mutations, observer) {{\n",
       "        var display = window.getComputedStyle(gd).display;\n",
       "        if (!display || display === 'none') {{\n",
       "            console.log([gd, 'removed!']);\n",
       "            Plotly.purge(gd);\n",
       "            observer.disconnect();\n",
       "        }}\n",
       "}});\n",
       "\n",
       "// Listen for the removal of the full notebook cells\n",
       "var notebookContainer = gd.closest('#notebook-container');\n",
       "if (notebookContainer) {{\n",
       "    x.observe(notebookContainer, {childList: true});\n",
       "}}\n",
       "\n",
       "// Listen for the clearing of the current output cell\n",
       "var outputEl = gd.closest('.output');\n",
       "if (outputEl) {{\n",
       "    x.observe(outputEl, {childList: true});\n",
       "}}\n",
       "\n",
       "                        })                };                });            </script>        </div>"
      ]
     },
     "metadata": {},
     "output_type": "display_data"
    }
   ],
   "source": [
    "# make the subplot\n",
    "subplot = make_subplots(rows=1, cols=2, column_widths=[0.8, 0.2], shared_yaxes=True)\n",
    "\n",
    "# select the data needed (fatalities only, after 1920)\n",
    "fatalities = df[df['Fatal (Y/N)'] == 'Y']\n",
    "fatalities = fatalities[(fatalities['Year']>1920) | (fatalities['Year']==0)]\n",
    "\n",
    "# aggregate the data by year\n",
    "dated_aggregate = fatalities.groupby(['Year']).CaseNumber.count().reset_index()\n",
    "\n",
    "# split into the known and unknown aggregates\n",
    "unknown_aggregate = dated_aggregate[dated_aggregate['Year']==0]\n",
    "dated_aggregate = dated_aggregate[dated_aggregate['Year']!=0]\n",
    "\n",
    "# add the known date trace in the first column\n",
    "subplot.add_trace(go.Scatter(x=dated_aggregate['Year'], y=dated_aggregate['CaseNumber'], \n",
    "                             mode='lines', name='Fatalities - Dated'), row=1, col=1)\n",
    "\n",
    "# add the unknown date trace in the second column\n",
    "subplot.add_trace(go.Bar(x=['Unknown'],y=unknown_aggregate['CaseNumber'], name='Fatalities - Date Unknown'), row=1, col=2)\n",
    "\n",
    "# update the figure to fix the x axis of plot one, add a title, and add theme options\n",
    "subplot.update_layout(xaxis1=dict(range=[1918,2022]), \n",
    "                      title='Number of fatalities by date',\n",
    "                     font_family=\"Arial\", font_color=\"black\", template='seaborn')\n",
    "\n",
    "subplot.show()"
   ]
  }
 ],
 "metadata": {
  "interpreter": {
   "hash": "0922272b406f1a9245e5a469671f6df72b9208c4e6008032d206ca787bfa6349"
  },
  "kernelspec": {
   "display_name": "Python 3 (ipykernel)",
   "language": "python",
   "name": "python3"
  },
  "language_info": {
   "codemirror_mode": {
    "name": "ipython",
    "version": 3
   },
   "file_extension": ".py",
   "mimetype": "text/x-python",
   "name": "python",
   "nbconvert_exporter": "python",
   "pygments_lexer": "ipython3",
   "version": "3.7.3"
  }
 },
 "nbformat": 4,
 "nbformat_minor": 2
}
